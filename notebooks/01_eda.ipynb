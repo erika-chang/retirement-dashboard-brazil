{
 "cells": [
  {
   "cell_type": "code",
   "execution_count": 39,
   "id": "2f61164e",
   "metadata": {},
   "outputs": [],
   "source": [
    "import pandas as pd\n",
    "import missingno as msno\n",
    "import matplotlib.pyplot as plt\n",
    "import plotly.express as px"
   ]
  },
  {
   "cell_type": "markdown",
   "id": "9c7c35ea",
   "metadata": {},
   "source": [
    "# 📥 Load data"
   ]
  },
  {
   "cell_type": "markdown",
   "id": "a070af74",
   "metadata": {},
   "source": [
    "The data was downloaded using src/data_ingestion.py"
   ]
  },
  {
   "cell_type": "code",
   "execution_count": 3,
   "id": "99b3f8c8",
   "metadata": {},
   "outputs": [],
   "source": [
    "df = pd.read_csv(\"/Users/erika/code/erika-chang/personal-projects/retirement-dashboard-brazil/data/raw/aposentados.csv\", header=[2], sep=';', encoding=\"iso-8859-1\")"
   ]
  },
  {
   "cell_type": "markdown",
   "id": "425daf8b",
   "metadata": {},
   "source": [
    "# 📊 Overview (head, shape, dtypes)"
   ]
  },
  {
   "cell_type": "code",
   "execution_count": 4,
   "id": "62912d58",
   "metadata": {},
   "outputs": [
    {
     "data": {
      "text/html": [
       "<div>\n",
       "<style scoped>\n",
       "    .dataframe tbody tr th:only-of-type {\n",
       "        vertical-align: middle;\n",
       "    }\n",
       "\n",
       "    .dataframe tbody tr th {\n",
       "        vertical-align: top;\n",
       "    }\n",
       "\n",
       "    .dataframe thead th {\n",
       "        text-align: right;\n",
       "    }\n",
       "</style>\n",
       "<table border=\"1\" class=\"dataframe\">\n",
       "  <thead>\n",
       "    <tr style=\"text-align: right;\">\n",
       "      <th></th>\n",
       "      <th>Nome</th>\n",
       "      <th>CPF</th>\n",
       "      <th>Situação Vínculo</th>\n",
       "      <th>Matrícula</th>\n",
       "      <th>UORG</th>\n",
       "      <th>Órgão</th>\n",
       "      <th>Órgão Superior</th>\n",
       "      <th>Classe</th>\n",
       "      <th>Padrão</th>\n",
       "      <th>Referência</th>\n",
       "      <th>Nível</th>\n",
       "      <th>Regime Jurídico</th>\n",
       "      <th>Fundamentação Aposentadoria (Cod. Sisac)</th>\n",
       "      <th>Data Ocorrência</th>\n",
       "      <th>Data DOU</th>\n",
       "      <th>Ato de Aposentadoria</th>\n",
       "      <th>Ingresso no Serviço Público Civil</th>\n",
       "      <th>Documento Legal</th>\n",
       "      <th>Número Doc. Legal</th>\n",
       "      <th>Data de Publicação</th>\n",
       "    </tr>\n",
       "  </thead>\n",
       "  <tbody>\n",
       "    <tr>\n",
       "      <th>0</th>\n",
       "      <td>ABADIA MARCIA CUNHA</td>\n",
       "      <td>***.161.491-**</td>\n",
       "      <td>Aposentado</td>\n",
       "      <td>000*****</td>\n",
       "      <td>25201</td>\n",
       "      <td>BANCO CENTRAL DO BRASIL</td>\n",
       "      <td>BANCO CENTRAL DO BRASIL</td>\n",
       "      <td>BCESPAE</td>\n",
       "      <td>II</td>\n",
       "      <td>NaN</td>\n",
       "      <td>NaN</td>\n",
       "      <td>RJU</td>\n",
       "      <td>1155083</td>\n",
       "      <td>24/03/1997</td>\n",
       "      <td>24/03/1997</td>\n",
       "      <td></td>\n",
       "      <td>NaN</td>\n",
       "      <td>NaN</td>\n",
       "      <td></td>\n",
       "      <td>NaN</td>\n",
       "    </tr>\n",
       "    <tr>\n",
       "      <th>1</th>\n",
       "      <td>ABDIAS CASSIO MARROCOS GOMES</td>\n",
       "      <td>***.297.631-**</td>\n",
       "      <td>Aposentado</td>\n",
       "      <td>000*****</td>\n",
       "      <td>25201</td>\n",
       "      <td>BANCO CENTRAL DO BRASIL</td>\n",
       "      <td>BANCO CENTRAL DO BRASIL</td>\n",
       "      <td>BCESPTE</td>\n",
       "      <td>IV</td>\n",
       "      <td>NaN</td>\n",
       "      <td>NaN</td>\n",
       "      <td>RJU</td>\n",
       "      <td>1107143</td>\n",
       "      <td>24/12/2021</td>\n",
       "      <td>04/01/2022</td>\n",
       "      <td>112570</td>\n",
       "      <td>NaN</td>\n",
       "      <td>NaN</td>\n",
       "      <td>NaN</td>\n",
       "      <td>NaN</td>\n",
       "    </tr>\n",
       "    <tr>\n",
       "      <th>2</th>\n",
       "      <td>ABDIEL ANDRIOLO DE ANDRADE</td>\n",
       "      <td>***.895.388-**</td>\n",
       "      <td>Aposentado</td>\n",
       "      <td>000*****</td>\n",
       "      <td>25201</td>\n",
       "      <td>BANCO CENTRAL DO BRASIL</td>\n",
       "      <td>BANCO CENTRAL DO BRASIL</td>\n",
       "      <td>BCESPAE</td>\n",
       "      <td>II</td>\n",
       "      <td>NaN</td>\n",
       "      <td>NaN</td>\n",
       "      <td>RJU</td>\n",
       "      <td>1155040</td>\n",
       "      <td>27/02/1997</td>\n",
       "      <td>27/02/1997</td>\n",
       "      <td></td>\n",
       "      <td>NaN</td>\n",
       "      <td>NaN</td>\n",
       "      <td></td>\n",
       "      <td>NaN</td>\n",
       "    </tr>\n",
       "    <tr>\n",
       "      <th>3</th>\n",
       "      <td>ABDON LOPES DE MENESES</td>\n",
       "      <td>***.983.931-**</td>\n",
       "      <td>Aposentado</td>\n",
       "      <td>000*****</td>\n",
       "      <td>25201</td>\n",
       "      <td>BANCO CENTRAL DO BRASIL</td>\n",
       "      <td>BANCO CENTRAL DO BRASIL</td>\n",
       "      <td>BCESPTE</td>\n",
       "      <td>IV</td>\n",
       "      <td>NaN</td>\n",
       "      <td>NaN</td>\n",
       "      <td>RJU</td>\n",
       "      <td>1107143</td>\n",
       "      <td>14/10/2008</td>\n",
       "      <td>15/10/2008</td>\n",
       "      <td>47447</td>\n",
       "      <td>NaN</td>\n",
       "      <td>NaN</td>\n",
       "      <td></td>\n",
       "      <td>NaN</td>\n",
       "    </tr>\n",
       "    <tr>\n",
       "      <th>4</th>\n",
       "      <td>ABEL ALFREDO FILHO</td>\n",
       "      <td>***.347.385-**</td>\n",
       "      <td>Aposentado</td>\n",
       "      <td>000*****</td>\n",
       "      <td>25201</td>\n",
       "      <td>BANCO CENTRAL DO BRASIL</td>\n",
       "      <td>BANCO CENTRAL DO BRASIL</td>\n",
       "      <td>BCESPAE</td>\n",
       "      <td>IV</td>\n",
       "      <td>NaN</td>\n",
       "      <td>NaN</td>\n",
       "      <td>RJU</td>\n",
       "      <td>1107143</td>\n",
       "      <td>28/11/2022</td>\n",
       "      <td>01/12/2022</td>\n",
       "      <td>115578</td>\n",
       "      <td>NaN</td>\n",
       "      <td>NaN</td>\n",
       "      <td>NaN</td>\n",
       "      <td>NaN</td>\n",
       "    </tr>\n",
       "  </tbody>\n",
       "</table>\n",
       "</div>"
      ],
      "text/plain": [
       "                           Nome             CPF Situação Vínculo Matrícula  \\\n",
       "0           ABADIA MARCIA CUNHA  ***.161.491-**       Aposentado  000*****   \n",
       "1  ABDIAS CASSIO MARROCOS GOMES  ***.297.631-**       Aposentado  000*****   \n",
       "2    ABDIEL ANDRIOLO DE ANDRADE  ***.895.388-**       Aposentado  000*****   \n",
       "3        ABDON LOPES DE MENESES  ***.983.931-**       Aposentado  000*****   \n",
       "4            ABEL ALFREDO FILHO  ***.347.385-**       Aposentado  000*****   \n",
       "\n",
       "    UORG                    Órgão           Órgão Superior   Classe Padrão  \\\n",
       "0  25201  BANCO CENTRAL DO BRASIL  BANCO CENTRAL DO BRASIL  BCESPAE     II   \n",
       "1  25201  BANCO CENTRAL DO BRASIL  BANCO CENTRAL DO BRASIL  BCESPTE     IV   \n",
       "2  25201  BANCO CENTRAL DO BRASIL  BANCO CENTRAL DO BRASIL  BCESPAE     II   \n",
       "3  25201  BANCO CENTRAL DO BRASIL  BANCO CENTRAL DO BRASIL  BCESPTE     IV   \n",
       "4  25201  BANCO CENTRAL DO BRASIL  BANCO CENTRAL DO BRASIL  BCESPAE     IV   \n",
       "\n",
       "   Referência  Nível Regime Jurídico Fundamentação Aposentadoria (Cod. Sisac)  \\\n",
       "0         NaN    NaN             RJU                                  1155083   \n",
       "1         NaN    NaN             RJU                                  1107143   \n",
       "2         NaN    NaN             RJU                                  1155040   \n",
       "3         NaN    NaN             RJU                                  1107143   \n",
       "4         NaN    NaN             RJU                                  1107143   \n",
       "\n",
       "  Data Ocorrência    Data DOU Ato de Aposentadoria  \\\n",
       "0      24/03/1997  24/03/1997                        \n",
       "1      24/12/2021  04/01/2022               112570   \n",
       "2      27/02/1997  27/02/1997                        \n",
       "3      14/10/2008  15/10/2008                47447   \n",
       "4      28/11/2022  01/12/2022               115578   \n",
       "\n",
       "   Ingresso no Serviço Público Civil Documento Legal Número Doc. Legal  \\\n",
       "0                                NaN             NaN                     \n",
       "1                                NaN             NaN               NaN   \n",
       "2                                NaN             NaN                     \n",
       "3                                NaN             NaN                     \n",
       "4                                NaN             NaN               NaN   \n",
       "\n",
       "   Data de Publicação  \n",
       "0                 NaN  \n",
       "1                 NaN  \n",
       "2                 NaN  \n",
       "3                 NaN  \n",
       "4                 NaN  "
      ]
     },
     "execution_count": 4,
     "metadata": {},
     "output_type": "execute_result"
    }
   ],
   "source": [
    "df.head()"
   ]
  },
  {
   "cell_type": "code",
   "execution_count": 5,
   "id": "f07bbcf9",
   "metadata": {},
   "outputs": [
    {
     "data": {
      "text/html": [
       "<div>\n",
       "<style scoped>\n",
       "    .dataframe tbody tr th:only-of-type {\n",
       "        vertical-align: middle;\n",
       "    }\n",
       "\n",
       "    .dataframe tbody tr th {\n",
       "        vertical-align: top;\n",
       "    }\n",
       "\n",
       "    .dataframe thead th {\n",
       "        text-align: right;\n",
       "    }\n",
       "</style>\n",
       "<table border=\"1\" class=\"dataframe\">\n",
       "  <thead>\n",
       "    <tr style=\"text-align: right;\">\n",
       "      <th></th>\n",
       "      <th>Nome</th>\n",
       "      <th>CPF</th>\n",
       "      <th>Situação Vínculo</th>\n",
       "      <th>Matrícula</th>\n",
       "      <th>UORG</th>\n",
       "      <th>Órgão</th>\n",
       "      <th>Órgão Superior</th>\n",
       "      <th>Classe</th>\n",
       "      <th>Padrão</th>\n",
       "      <th>Referência</th>\n",
       "      <th>Nível</th>\n",
       "      <th>Regime Jurídico</th>\n",
       "      <th>Fundamentação Aposentadoria (Cod. Sisac)</th>\n",
       "      <th>Data Ocorrência</th>\n",
       "      <th>Data DOU</th>\n",
       "      <th>Ato de Aposentadoria</th>\n",
       "      <th>Ingresso no Serviço Público Civil</th>\n",
       "      <th>Documento Legal</th>\n",
       "      <th>Número Doc. Legal</th>\n",
       "      <th>Data de Publicação</th>\n",
       "    </tr>\n",
       "  </thead>\n",
       "  <tbody>\n",
       "    <tr>\n",
       "      <th>5400</th>\n",
       "      <td>ZULEICA DE MELO TELES</td>\n",
       "      <td>***.533.991-**</td>\n",
       "      <td>Aposentado</td>\n",
       "      <td>999*****</td>\n",
       "      <td>25201</td>\n",
       "      <td>BANCO CENTRAL DO BRASIL</td>\n",
       "      <td>BANCO CENTRAL DO BRASIL</td>\n",
       "      <td>BCESPAB</td>\n",
       "      <td>III</td>\n",
       "      <td>NaN</td>\n",
       "      <td>NaN</td>\n",
       "      <td>RJU</td>\n",
       "      <td>1155083</td>\n",
       "      <td>28/04/1998</td>\n",
       "      <td>28/04/1998</td>\n",
       "      <td></td>\n",
       "      <td>NaN</td>\n",
       "      <td>NaN</td>\n",
       "      <td></td>\n",
       "      <td>NaN</td>\n",
       "    </tr>\n",
       "    <tr>\n",
       "      <th>5401</th>\n",
       "      <td>ZULEICA MARIA SOUZA PORTO</td>\n",
       "      <td>***.454.201-**</td>\n",
       "      <td>Aposentado</td>\n",
       "      <td>999*****</td>\n",
       "      <td>25201</td>\n",
       "      <td>BANCO CENTRAL DO BRASIL</td>\n",
       "      <td>BANCO CENTRAL DO BRASIL</td>\n",
       "      <td>BCESPAC</td>\n",
       "      <td>III</td>\n",
       "      <td>NaN</td>\n",
       "      <td>NaN</td>\n",
       "      <td>RJU</td>\n",
       "      <td>1155083</td>\n",
       "      <td>27/03/1998</td>\n",
       "      <td>27/03/1998</td>\n",
       "      <td></td>\n",
       "      <td>NaN</td>\n",
       "      <td>NaN</td>\n",
       "      <td></td>\n",
       "      <td>NaN</td>\n",
       "    </tr>\n",
       "    <tr>\n",
       "      <th>5402</th>\n",
       "      <td>ZULMA GONCALVES DIAS</td>\n",
       "      <td>***.828.526-**</td>\n",
       "      <td>Aposentado</td>\n",
       "      <td>999*****</td>\n",
       "      <td>25201</td>\n",
       "      <td>BANCO CENTRAL DO BRASIL</td>\n",
       "      <td>BANCO CENTRAL DO BRASIL</td>\n",
       "      <td>BCESPAC</td>\n",
       "      <td>I</td>\n",
       "      <td>NaN</td>\n",
       "      <td>NaN</td>\n",
       "      <td>RJU</td>\n",
       "      <td>11020871</td>\n",
       "      <td>10/04/2000</td>\n",
       "      <td>10/04/2000</td>\n",
       "      <td></td>\n",
       "      <td>NaN</td>\n",
       "      <td>NaN</td>\n",
       "      <td></td>\n",
       "      <td>NaN</td>\n",
       "    </tr>\n",
       "    <tr>\n",
       "      <th>5403</th>\n",
       "      <td>ZULMAR MAYETA</td>\n",
       "      <td>***.113.787-**</td>\n",
       "      <td>Aposentado</td>\n",
       "      <td>999*****</td>\n",
       "      <td>25201</td>\n",
       "      <td>BANCO CENTRAL DO BRASIL</td>\n",
       "      <td>BANCO CENTRAL DO BRASIL</td>\n",
       "      <td>BCESPAE</td>\n",
       "      <td>IV</td>\n",
       "      <td>NaN</td>\n",
       "      <td>NaN</td>\n",
       "      <td>RJU</td>\n",
       "      <td>1107143</td>\n",
       "      <td>02/07/2018</td>\n",
       "      <td>03/07/2018</td>\n",
       "      <td>98600</td>\n",
       "      <td>NaN</td>\n",
       "      <td>NaN</td>\n",
       "      <td></td>\n",
       "      <td>NaN</td>\n",
       "    </tr>\n",
       "    <tr>\n",
       "      <th>5404</th>\n",
       "      <td>ZULMIRA MARIA BERNARDES NORMANDO</td>\n",
       "      <td>***.805.121-**</td>\n",
       "      <td>Aposentado</td>\n",
       "      <td>999*****</td>\n",
       "      <td>25201</td>\n",
       "      <td>BANCO CENTRAL DO BRASIL</td>\n",
       "      <td>BANCO CENTRAL DO BRASIL</td>\n",
       "      <td>BCESPAE</td>\n",
       "      <td>III</td>\n",
       "      <td>NaN</td>\n",
       "      <td>NaN</td>\n",
       "      <td>RJU</td>\n",
       "      <td>1155083</td>\n",
       "      <td>03/04/1997</td>\n",
       "      <td>03/04/1997</td>\n",
       "      <td></td>\n",
       "      <td>NaN</td>\n",
       "      <td>NaN</td>\n",
       "      <td></td>\n",
       "      <td>NaN</td>\n",
       "    </tr>\n",
       "  </tbody>\n",
       "</table>\n",
       "</div>"
      ],
      "text/plain": [
       "                                  Nome             CPF Situação Vínculo  \\\n",
       "5400             ZULEICA DE MELO TELES  ***.533.991-**       Aposentado   \n",
       "5401         ZULEICA MARIA SOUZA PORTO  ***.454.201-**       Aposentado   \n",
       "5402              ZULMA GONCALVES DIAS  ***.828.526-**       Aposentado   \n",
       "5403                     ZULMAR MAYETA  ***.113.787-**       Aposentado   \n",
       "5404  ZULMIRA MARIA BERNARDES NORMANDO  ***.805.121-**       Aposentado   \n",
       "\n",
       "     Matrícula   UORG                    Órgão           Órgão Superior  \\\n",
       "5400  999*****  25201  BANCO CENTRAL DO BRASIL  BANCO CENTRAL DO BRASIL   \n",
       "5401  999*****  25201  BANCO CENTRAL DO BRASIL  BANCO CENTRAL DO BRASIL   \n",
       "5402  999*****  25201  BANCO CENTRAL DO BRASIL  BANCO CENTRAL DO BRASIL   \n",
       "5403  999*****  25201  BANCO CENTRAL DO BRASIL  BANCO CENTRAL DO BRASIL   \n",
       "5404  999*****  25201  BANCO CENTRAL DO BRASIL  BANCO CENTRAL DO BRASIL   \n",
       "\n",
       "       Classe Padrão  Referência  Nível Regime Jurídico  \\\n",
       "5400  BCESPAB    III         NaN    NaN             RJU   \n",
       "5401  BCESPAC    III         NaN    NaN             RJU   \n",
       "5402  BCESPAC      I         NaN    NaN             RJU   \n",
       "5403  BCESPAE     IV         NaN    NaN             RJU   \n",
       "5404  BCESPAE    III         NaN    NaN             RJU   \n",
       "\n",
       "     Fundamentação Aposentadoria (Cod. Sisac) Data Ocorrência    Data DOU  \\\n",
       "5400                                  1155083      28/04/1998  28/04/1998   \n",
       "5401                                  1155083      27/03/1998  27/03/1998   \n",
       "5402                                 11020871      10/04/2000  10/04/2000   \n",
       "5403                                  1107143      02/07/2018  03/07/2018   \n",
       "5404                                  1155083      03/04/1997  03/04/1997   \n",
       "\n",
       "     Ato de Aposentadoria  Ingresso no Serviço Público Civil Documento Legal  \\\n",
       "5400                                                     NaN             NaN   \n",
       "5401                                                     NaN             NaN   \n",
       "5402                                                     NaN             NaN   \n",
       "5403                98600                                NaN             NaN   \n",
       "5404                                                     NaN             NaN   \n",
       "\n",
       "     Número Doc. Legal  Data de Publicação  \n",
       "5400                                   NaN  \n",
       "5401                                   NaN  \n",
       "5402                                   NaN  \n",
       "5403                                   NaN  \n",
       "5404                                   NaN  "
      ]
     },
     "execution_count": 5,
     "metadata": {},
     "output_type": "execute_result"
    }
   ],
   "source": [
    "df.tail()"
   ]
  },
  {
   "cell_type": "code",
   "execution_count": 6,
   "id": "e9f39d74",
   "metadata": {},
   "outputs": [
    {
     "data": {
      "text/plain": [
       "(5405, 20)"
      ]
     },
     "execution_count": 6,
     "metadata": {},
     "output_type": "execute_result"
    }
   ],
   "source": [
    "df.shape"
   ]
  },
  {
   "cell_type": "markdown",
   "id": "97a6b6d4",
   "metadata": {},
   "source": [
    "There is information on 5405 employees from the Central Bank."
   ]
  },
  {
   "cell_type": "code",
   "execution_count": 7,
   "id": "b39a296d",
   "metadata": {},
   "outputs": [
    {
     "name": "stdout",
     "output_type": "stream",
     "text": [
      "<class 'pandas.core.frame.DataFrame'>\n",
      "RangeIndex: 5405 entries, 0 to 5404\n",
      "Data columns (total 20 columns):\n",
      " #   Column                                    Non-Null Count  Dtype  \n",
      "---  ------                                    --------------  -----  \n",
      " 0   Nome                                      5405 non-null   object \n",
      " 1   CPF                                       5405 non-null   object \n",
      " 2   Situação Vínculo                          5405 non-null   object \n",
      " 3   Matrícula                                 5405 non-null   object \n",
      " 4   UORG                                      5405 non-null   int64  \n",
      " 5   Órgão                                     5405 non-null   object \n",
      " 6   Órgão Superior                            5405 non-null   object \n",
      " 7   Classe                                    5405 non-null   object \n",
      " 8   Padrão                                    5405 non-null   object \n",
      " 9   Referência                                0 non-null      float64\n",
      " 10  Nível                                     0 non-null      float64\n",
      " 11  Regime Jurídico                           5405 non-null   object \n",
      " 12  Fundamentação Aposentadoria (Cod. Sisac)  5405 non-null   object \n",
      " 13  Data Ocorrência                           5405 non-null   object \n",
      " 14  Data DOU                                  5405 non-null   object \n",
      " 15  Ato de Aposentadoria                      5405 non-null   object \n",
      " 16  Ingresso no Serviço Público Civil         0 non-null      float64\n",
      " 17  Documento Legal                           43 non-null     object \n",
      " 18  Número Doc. Legal                         5062 non-null   object \n",
      " 19  Data de Publicação                        43 non-null     float64\n",
      "dtypes: float64(4), int64(1), object(15)\n",
      "memory usage: 844.7+ KB\n"
     ]
    }
   ],
   "source": [
    "df.info()"
   ]
  },
  {
   "cell_type": "code",
   "execution_count": 8,
   "id": "2b383b47",
   "metadata": {},
   "outputs": [
    {
     "data": {
      "image/png": "[encoded data removed]",
      "text/plain": [
       "<Figure size 1200x600 with 2 Axes>"
      ]
     },
     "metadata": {},
     "output_type": "display_data"
    }
   ],
   "source": [
    "msno.matrix(df, figsize=(12,6), fontsize=10)\n",
    "plt.title(\"Missing Values Heatmap\")\n",
    "plt.show()"
   ]
  },
  {
   "cell_type": "code",
   "execution_count": 9,
   "id": "178e6e48",
   "metadata": {},
   "outputs": [],
   "source": [
    "aposentados_df = df.drop(columns=[\"Referência\", \"Nível\",\"Ingresso no Serviço Público Civil\", \"CPF\", \"Matrícula\"])"
   ]
  },
  {
   "cell_type": "markdown",
   "id": "882d02de",
   "metadata": {},
   "source": [
    "There are many columns without information, so these were excluded from the data."
   ]
  },
  {
   "cell_type": "code",
   "execution_count": 10,
   "id": "96fe9b88",
   "metadata": {},
   "outputs": [
    {
     "name": "stdout",
     "output_type": "stream",
     "text": [
      "<class 'pandas.core.frame.DataFrame'>\n",
      "RangeIndex: 5405 entries, 0 to 5404\n",
      "Data columns (total 15 columns):\n",
      " #   Column                                    Non-Null Count  Dtype  \n",
      "---  ------                                    --------------  -----  \n",
      " 0   Nome                                      5405 non-null   object \n",
      " 1   Situação Vínculo                          5405 non-null   object \n",
      " 2   UORG                                      5405 non-null   int64  \n",
      " 3   Órgão                                     5405 non-null   object \n",
      " 4   Órgão Superior                            5405 non-null   object \n",
      " 5   Classe                                    5405 non-null   object \n",
      " 6   Padrão                                    5405 non-null   object \n",
      " 7   Regime Jurídico                           5405 non-null   object \n",
      " 8   Fundamentação Aposentadoria (Cod. Sisac)  5405 non-null   object \n",
      " 9   Data Ocorrência                           5405 non-null   object \n",
      " 10  Data DOU                                  5405 non-null   object \n",
      " 11  Ato de Aposentadoria                      5405 non-null   object \n",
      " 12  Documento Legal                           43 non-null     object \n",
      " 13  Número Doc. Legal                         5062 non-null   object \n",
      " 14  Data de Publicação                        43 non-null     float64\n",
      "dtypes: float64(1), int64(1), object(13)\n",
      "memory usage: 633.5+ KB\n"
     ]
    }
   ],
   "source": [
    "aposentados_df.info()"
   ]
  },
  {
   "cell_type": "code",
   "execution_count": 11,
   "id": "fdfeeec6",
   "metadata": {},
   "outputs": [
    {
     "data": {
      "text/plain": [
       "Nome                                        5398\n",
       "Situação Vínculo                               1\n",
       "UORG                                           1\n",
       "Órgão                                          1\n",
       "Órgão Superior                                 1\n",
       "Classe                                        10\n",
       "Padrão                                         4\n",
       "Regime Jurídico                                1\n",
       "Fundamentação Aposentadoria (Cod. Sisac)      32\n",
       "Data Ocorrência                             2088\n",
       "Data DOU                                    2116\n",
       "Ato de Aposentadoria                        3087\n",
       "Documento Legal                                1\n",
       "Número Doc. Legal                             17\n",
       "Data de Publicação                            12\n",
       "dtype: int64"
      ]
     },
     "execution_count": 11,
     "metadata": {},
     "output_type": "execute_result"
    }
   ],
   "source": [
    "aposentados_df.nunique()"
   ]
  },
  {
   "cell_type": "code",
   "execution_count": 12,
   "id": "00ba3691",
   "metadata": {},
   "outputs": [
    {
     "data": {
      "text/html": [
       "<div>\n",
       "<style scoped>\n",
       "    .dataframe tbody tr th:only-of-type {\n",
       "        vertical-align: middle;\n",
       "    }\n",
       "\n",
       "    .dataframe tbody tr th {\n",
       "        vertical-align: top;\n",
       "    }\n",
       "\n",
       "    .dataframe thead th {\n",
       "        text-align: right;\n",
       "    }\n",
       "</style>\n",
       "<table border=\"1\" class=\"dataframe\">\n",
       "  <thead>\n",
       "    <tr style=\"text-align: right;\">\n",
       "      <th></th>\n",
       "      <th>Nome</th>\n",
       "      <th>Situação Vínculo</th>\n",
       "      <th>UORG</th>\n",
       "      <th>Órgão</th>\n",
       "      <th>Órgão Superior</th>\n",
       "      <th>Classe</th>\n",
       "      <th>Padrão</th>\n",
       "      <th>Regime Jurídico</th>\n",
       "      <th>Fundamentação Aposentadoria (Cod. Sisac)</th>\n",
       "      <th>Data Ocorrência</th>\n",
       "      <th>Data DOU</th>\n",
       "      <th>Ato de Aposentadoria</th>\n",
       "      <th>Documento Legal</th>\n",
       "      <th>Número Doc. Legal</th>\n",
       "      <th>Data de Publicação</th>\n",
       "    </tr>\n",
       "  </thead>\n",
       "  <tbody>\n",
       "    <tr>\n",
       "      <th>0</th>\n",
       "      <td>ABADIA MARCIA CUNHA</td>\n",
       "      <td>Aposentado</td>\n",
       "      <td>25201</td>\n",
       "      <td>BANCO CENTRAL DO BRASIL</td>\n",
       "      <td>BANCO CENTRAL DO BRASIL</td>\n",
       "      <td>BCESPAE</td>\n",
       "      <td>II</td>\n",
       "      <td>RJU</td>\n",
       "      <td>1155083</td>\n",
       "      <td>24/03/1997</td>\n",
       "      <td>24/03/1997</td>\n",
       "      <td></td>\n",
       "      <td>NaN</td>\n",
       "      <td></td>\n",
       "      <td>NaN</td>\n",
       "    </tr>\n",
       "    <tr>\n",
       "      <th>1</th>\n",
       "      <td>ABDIAS CASSIO MARROCOS GOMES</td>\n",
       "      <td>Aposentado</td>\n",
       "      <td>25201</td>\n",
       "      <td>BANCO CENTRAL DO BRASIL</td>\n",
       "      <td>BANCO CENTRAL DO BRASIL</td>\n",
       "      <td>BCESPTE</td>\n",
       "      <td>IV</td>\n",
       "      <td>RJU</td>\n",
       "      <td>1107143</td>\n",
       "      <td>24/12/2021</td>\n",
       "      <td>04/01/2022</td>\n",
       "      <td>112570</td>\n",
       "      <td>NaN</td>\n",
       "      <td>NaN</td>\n",
       "      <td>NaN</td>\n",
       "    </tr>\n",
       "    <tr>\n",
       "      <th>2</th>\n",
       "      <td>ABDIEL ANDRIOLO DE ANDRADE</td>\n",
       "      <td>Aposentado</td>\n",
       "      <td>25201</td>\n",
       "      <td>BANCO CENTRAL DO BRASIL</td>\n",
       "      <td>BANCO CENTRAL DO BRASIL</td>\n",
       "      <td>BCESPAE</td>\n",
       "      <td>II</td>\n",
       "      <td>RJU</td>\n",
       "      <td>1155040</td>\n",
       "      <td>27/02/1997</td>\n",
       "      <td>27/02/1997</td>\n",
       "      <td></td>\n",
       "      <td>NaN</td>\n",
       "      <td></td>\n",
       "      <td>NaN</td>\n",
       "    </tr>\n",
       "  </tbody>\n",
       "</table>\n",
       "</div>"
      ],
      "text/plain": [
       "                           Nome Situação Vínculo   UORG  \\\n",
       "0           ABADIA MARCIA CUNHA       Aposentado  25201   \n",
       "1  ABDIAS CASSIO MARROCOS GOMES       Aposentado  25201   \n",
       "2    ABDIEL ANDRIOLO DE ANDRADE       Aposentado  25201   \n",
       "\n",
       "                     Órgão           Órgão Superior   Classe Padrão  \\\n",
       "0  BANCO CENTRAL DO BRASIL  BANCO CENTRAL DO BRASIL  BCESPAE     II   \n",
       "1  BANCO CENTRAL DO BRASIL  BANCO CENTRAL DO BRASIL  BCESPTE     IV   \n",
       "2  BANCO CENTRAL DO BRASIL  BANCO CENTRAL DO BRASIL  BCESPAE     II   \n",
       "\n",
       "  Regime Jurídico Fundamentação Aposentadoria (Cod. Sisac) Data Ocorrência  \\\n",
       "0             RJU                                  1155083      24/03/1997   \n",
       "1             RJU                                  1107143      24/12/2021   \n",
       "2             RJU                                  1155040      27/02/1997   \n",
       "\n",
       "     Data DOU Ato de Aposentadoria Documento Legal Número Doc. Legal  \\\n",
       "0  24/03/1997                                  NaN                     \n",
       "1  04/01/2022               112570             NaN               NaN   \n",
       "2  27/02/1997                                  NaN                     \n",
       "\n",
       "   Data de Publicação  \n",
       "0                 NaN  \n",
       "1                 NaN  \n",
       "2                 NaN  "
      ]
     },
     "execution_count": 12,
     "metadata": {},
     "output_type": "execute_result"
    }
   ],
   "source": [
    "aposentados_df.head(3)"
   ]
  },
  {
   "cell_type": "code",
   "execution_count": 13,
   "id": "ff2838c0",
   "metadata": {},
   "outputs": [],
   "source": [
    "aposentados_df.drop(columns=[\"Situação Vínculo\", \"UORG\", \"Órgão\", \"Órgão Superior\", \"Regime Jurídico\", \"Documento Legal\"], inplace=True)"
   ]
  },
  {
   "cell_type": "markdown",
   "id": "6b415d05",
   "metadata": {},
   "source": [
    "Many columns don't add relevant information to the dataset, so these were excluded."
   ]
  },
  {
   "cell_type": "code",
   "execution_count": 14,
   "id": "bf10995b",
   "metadata": {},
   "outputs": [
    {
     "data": {
      "text/html": [
       "<div>\n",
       "<style scoped>\n",
       "    .dataframe tbody tr th:only-of-type {\n",
       "        vertical-align: middle;\n",
       "    }\n",
       "\n",
       "    .dataframe tbody tr th {\n",
       "        vertical-align: top;\n",
       "    }\n",
       "\n",
       "    .dataframe thead th {\n",
       "        text-align: right;\n",
       "    }\n",
       "</style>\n",
       "<table border=\"1\" class=\"dataframe\">\n",
       "  <thead>\n",
       "    <tr style=\"text-align: right;\">\n",
       "      <th></th>\n",
       "      <th>Nome</th>\n",
       "      <th>Classe</th>\n",
       "      <th>Padrão</th>\n",
       "      <th>Fundamentação Aposentadoria (Cod. Sisac)</th>\n",
       "      <th>Data Ocorrência</th>\n",
       "      <th>Data DOU</th>\n",
       "      <th>Ato de Aposentadoria</th>\n",
       "      <th>Número Doc. Legal</th>\n",
       "      <th>Data de Publicação</th>\n",
       "    </tr>\n",
       "  </thead>\n",
       "  <tbody>\n",
       "    <tr>\n",
       "      <th>0</th>\n",
       "      <td>ABADIA MARCIA CUNHA</td>\n",
       "      <td>BCESPAE</td>\n",
       "      <td>II</td>\n",
       "      <td>1155083</td>\n",
       "      <td>24/03/1997</td>\n",
       "      <td>24/03/1997</td>\n",
       "      <td></td>\n",
       "      <td></td>\n",
       "      <td>NaN</td>\n",
       "    </tr>\n",
       "    <tr>\n",
       "      <th>1</th>\n",
       "      <td>ABDIAS CASSIO MARROCOS GOMES</td>\n",
       "      <td>BCESPTE</td>\n",
       "      <td>IV</td>\n",
       "      <td>1107143</td>\n",
       "      <td>24/12/2021</td>\n",
       "      <td>04/01/2022</td>\n",
       "      <td>112570</td>\n",
       "      <td>NaN</td>\n",
       "      <td>NaN</td>\n",
       "    </tr>\n",
       "    <tr>\n",
       "      <th>2</th>\n",
       "      <td>ABDIEL ANDRIOLO DE ANDRADE</td>\n",
       "      <td>BCESPAE</td>\n",
       "      <td>II</td>\n",
       "      <td>1155040</td>\n",
       "      <td>27/02/1997</td>\n",
       "      <td>27/02/1997</td>\n",
       "      <td></td>\n",
       "      <td></td>\n",
       "      <td>NaN</td>\n",
       "    </tr>\n",
       "  </tbody>\n",
       "</table>\n",
       "</div>"
      ],
      "text/plain": [
       "                           Nome   Classe Padrão  \\\n",
       "0           ABADIA MARCIA CUNHA  BCESPAE     II   \n",
       "1  ABDIAS CASSIO MARROCOS GOMES  BCESPTE     IV   \n",
       "2    ABDIEL ANDRIOLO DE ANDRADE  BCESPAE     II   \n",
       "\n",
       "  Fundamentação Aposentadoria (Cod. Sisac) Data Ocorrência    Data DOU  \\\n",
       "0                                  1155083      24/03/1997  24/03/1997   \n",
       "1                                  1107143      24/12/2021  04/01/2022   \n",
       "2                                  1155040      27/02/1997  27/02/1997   \n",
       "\n",
       "  Ato de Aposentadoria Número Doc. Legal  Data de Publicação  \n",
       "0                                                        NaN  \n",
       "1               112570               NaN                 NaN  \n",
       "2                                                        NaN  "
      ]
     },
     "execution_count": 14,
     "metadata": {},
     "output_type": "execute_result"
    }
   ],
   "source": [
    "aposentados_df.head(3)"
   ]
  },
  {
   "cell_type": "code",
   "execution_count": 16,
   "id": "62f74779",
   "metadata": {},
   "outputs": [
    {
     "data": {
      "text/html": [
       "<div>\n",
       "<style scoped>\n",
       "    .dataframe tbody tr th:only-of-type {\n",
       "        vertical-align: middle;\n",
       "    }\n",
       "\n",
       "    .dataframe tbody tr th {\n",
       "        vertical-align: top;\n",
       "    }\n",
       "\n",
       "    .dataframe thead th {\n",
       "        text-align: right;\n",
       "    }\n",
       "</style>\n",
       "<table border=\"1\" class=\"dataframe\">\n",
       "  <thead>\n",
       "    <tr style=\"text-align: right;\">\n",
       "      <th></th>\n",
       "      <th>Nome</th>\n",
       "      <th>Classe</th>\n",
       "      <th>Padrão</th>\n",
       "      <th>Fundamentação Aposentadoria (Cod. Sisac)</th>\n",
       "      <th>Data Ocorrência</th>\n",
       "      <th>Data DOU</th>\n",
       "      <th>Ato de Aposentadoria</th>\n",
       "      <th>Número Doc. Legal</th>\n",
       "      <th>Data de Publicação</th>\n",
       "    </tr>\n",
       "  </thead>\n",
       "  <tbody>\n",
       "    <tr>\n",
       "      <th>0</th>\n",
       "      <td>ABADIA MARCIA CUNHA</td>\n",
       "      <td>BCESPAE</td>\n",
       "      <td>II</td>\n",
       "      <td>1155083</td>\n",
       "      <td>24/03/1997</td>\n",
       "      <td>24/03/1997</td>\n",
       "      <td></td>\n",
       "      <td></td>\n",
       "      <td>NaN</td>\n",
       "    </tr>\n",
       "    <tr>\n",
       "      <th>2</th>\n",
       "      <td>ABDIEL ANDRIOLO DE ANDRADE</td>\n",
       "      <td>BCESPAE</td>\n",
       "      <td>II</td>\n",
       "      <td>1155040</td>\n",
       "      <td>27/02/1997</td>\n",
       "      <td>27/02/1997</td>\n",
       "      <td></td>\n",
       "      <td></td>\n",
       "      <td>NaN</td>\n",
       "    </tr>\n",
       "    <tr>\n",
       "      <th>3</th>\n",
       "      <td>ABDON LOPES DE MENESES</td>\n",
       "      <td>BCESPTE</td>\n",
       "      <td>IV</td>\n",
       "      <td>1107143</td>\n",
       "      <td>14/10/2008</td>\n",
       "      <td>15/10/2008</td>\n",
       "      <td>47447</td>\n",
       "      <td></td>\n",
       "      <td>NaN</td>\n",
       "    </tr>\n",
       "    <tr>\n",
       "      <th>5</th>\n",
       "      <td>ABEL AMBROSIO DA SILVA FILHO</td>\n",
       "      <td>BCESPAE</td>\n",
       "      <td>III</td>\n",
       "      <td>1155083</td>\n",
       "      <td>30/12/1997</td>\n",
       "      <td>30/12/1997</td>\n",
       "      <td></td>\n",
       "      <td></td>\n",
       "      <td>NaN</td>\n",
       "    </tr>\n",
       "    <tr>\n",
       "      <th>6</th>\n",
       "      <td>ABEL EUSTAQUIO DE FARIA</td>\n",
       "      <td>BCESPAE</td>\n",
       "      <td>IV</td>\n",
       "      <td>1107143</td>\n",
       "      <td>09/09/2011</td>\n",
       "      <td>12/09/2011</td>\n",
       "      <td>67061</td>\n",
       "      <td></td>\n",
       "      <td>NaN</td>\n",
       "    </tr>\n",
       "    <tr>\n",
       "      <th>...</th>\n",
       "      <td>...</td>\n",
       "      <td>...</td>\n",
       "      <td>...</td>\n",
       "      <td>...</td>\n",
       "      <td>...</td>\n",
       "      <td>...</td>\n",
       "      <td>...</td>\n",
       "      <td>...</td>\n",
       "      <td>...</td>\n",
       "    </tr>\n",
       "    <tr>\n",
       "      <th>5400</th>\n",
       "      <td>ZULEICA DE MELO TELES</td>\n",
       "      <td>BCESPAB</td>\n",
       "      <td>III</td>\n",
       "      <td>1155083</td>\n",
       "      <td>28/04/1998</td>\n",
       "      <td>28/04/1998</td>\n",
       "      <td></td>\n",
       "      <td></td>\n",
       "      <td>NaN</td>\n",
       "    </tr>\n",
       "    <tr>\n",
       "      <th>5401</th>\n",
       "      <td>ZULEICA MARIA SOUZA PORTO</td>\n",
       "      <td>BCESPAC</td>\n",
       "      <td>III</td>\n",
       "      <td>1155083</td>\n",
       "      <td>27/03/1998</td>\n",
       "      <td>27/03/1998</td>\n",
       "      <td></td>\n",
       "      <td></td>\n",
       "      <td>NaN</td>\n",
       "    </tr>\n",
       "    <tr>\n",
       "      <th>5402</th>\n",
       "      <td>ZULMA GONCALVES DIAS</td>\n",
       "      <td>BCESPAC</td>\n",
       "      <td>I</td>\n",
       "      <td>11020871</td>\n",
       "      <td>10/04/2000</td>\n",
       "      <td>10/04/2000</td>\n",
       "      <td></td>\n",
       "      <td></td>\n",
       "      <td>NaN</td>\n",
       "    </tr>\n",
       "    <tr>\n",
       "      <th>5403</th>\n",
       "      <td>ZULMAR MAYETA</td>\n",
       "      <td>BCESPAE</td>\n",
       "      <td>IV</td>\n",
       "      <td>1107143</td>\n",
       "      <td>02/07/2018</td>\n",
       "      <td>03/07/2018</td>\n",
       "      <td>98600</td>\n",
       "      <td></td>\n",
       "      <td>NaN</td>\n",
       "    </tr>\n",
       "    <tr>\n",
       "      <th>5404</th>\n",
       "      <td>ZULMIRA MARIA BERNARDES NORMANDO</td>\n",
       "      <td>BCESPAE</td>\n",
       "      <td>III</td>\n",
       "      <td>1155083</td>\n",
       "      <td>03/04/1997</td>\n",
       "      <td>03/04/1997</td>\n",
       "      <td></td>\n",
       "      <td></td>\n",
       "      <td>NaN</td>\n",
       "    </tr>\n",
       "  </tbody>\n",
       "</table>\n",
       "<p>5062 rows × 9 columns</p>\n",
       "</div>"
      ],
      "text/plain": [
       "                                  Nome   Classe Padrão  \\\n",
       "0                  ABADIA MARCIA CUNHA  BCESPAE     II   \n",
       "2           ABDIEL ANDRIOLO DE ANDRADE  BCESPAE     II   \n",
       "3               ABDON LOPES DE MENESES  BCESPTE     IV   \n",
       "5         ABEL AMBROSIO DA SILVA FILHO  BCESPAE    III   \n",
       "6              ABEL EUSTAQUIO DE FARIA  BCESPAE     IV   \n",
       "...                                ...      ...    ...   \n",
       "5400             ZULEICA DE MELO TELES  BCESPAB    III   \n",
       "5401         ZULEICA MARIA SOUZA PORTO  BCESPAC    III   \n",
       "5402              ZULMA GONCALVES DIAS  BCESPAC      I   \n",
       "5403                     ZULMAR MAYETA  BCESPAE     IV   \n",
       "5404  ZULMIRA MARIA BERNARDES NORMANDO  BCESPAE    III   \n",
       "\n",
       "     Fundamentação Aposentadoria (Cod. Sisac) Data Ocorrência    Data DOU  \\\n",
       "0                                     1155083      24/03/1997  24/03/1997   \n",
       "2                                     1155040      27/02/1997  27/02/1997   \n",
       "3                                     1107143      14/10/2008  15/10/2008   \n",
       "5                                     1155083      30/12/1997  30/12/1997   \n",
       "6                                     1107143      09/09/2011  12/09/2011   \n",
       "...                                       ...             ...         ...   \n",
       "5400                                  1155083      28/04/1998  28/04/1998   \n",
       "5401                                  1155083      27/03/1998  27/03/1998   \n",
       "5402                                 11020871      10/04/2000  10/04/2000   \n",
       "5403                                  1107143      02/07/2018  03/07/2018   \n",
       "5404                                  1155083      03/04/1997  03/04/1997   \n",
       "\n",
       "     Ato de Aposentadoria Número Doc. Legal  Data de Publicação  \n",
       "0                                                           NaN  \n",
       "2                                                           NaN  \n",
       "3                   47447                                   NaN  \n",
       "5                                                           NaN  \n",
       "6                   67061                                   NaN  \n",
       "...                   ...               ...                 ...  \n",
       "5400                                                        NaN  \n",
       "5401                                                        NaN  \n",
       "5402                                                        NaN  \n",
       "5403                98600                                   NaN  \n",
       "5404                                                        NaN  \n",
       "\n",
       "[5062 rows x 9 columns]"
      ]
     },
     "execution_count": 16,
     "metadata": {},
     "output_type": "execute_result"
    }
   ],
   "source": [
    "aposentados_df[aposentados_df.isnull()['Número Doc. Legal'] != True]"
   ]
  },
  {
   "cell_type": "code",
   "execution_count": 17,
   "id": "70785a8e",
   "metadata": {},
   "outputs": [],
   "source": [
    "aposentados_df.drop(columns=[\"Número Doc. Legal\"], inplace=True)"
   ]
  },
  {
   "cell_type": "markdown",
   "id": "0e5dbc1b",
   "metadata": {},
   "source": [
    "The \"Número Doc. Legal\" column also had no information, altough it was not marked as NaN or other markers for missing information. This column was excluded from the data."
   ]
  },
  {
   "cell_type": "markdown",
   "id": "f835d24c",
   "metadata": {},
   "source": [
    "# 📌 Top 10 retirement reasons"
   ]
  },
  {
   "cell_type": "code",
   "execution_count": 70,
   "id": "f394fdbc",
   "metadata": {},
   "outputs": [
    {
     "data": {
      "text/plain": [
       "Fundamentação Aposentadoria (Cod. Sisac)\n",
       "1107143     2267\n",
       "1155083     1743\n",
       "1155040      498\n",
       "11020951     237\n",
       "1104047      171\n",
       "APOS-174      91\n",
       "1460617       73\n",
       "11020871      62\n",
       "1155008       32\n",
       "1154907       27\n",
       "1193368       24\n",
       "1106910       24\n",
       "1193350       23\n",
       "APOS-144      22\n",
       "11026301      18\n",
       "1106902       18\n",
       "APOS-176      10\n",
       "1103075       10\n",
       "1107160        9\n",
       "APOS-160       8\n",
       "1106899        6\n",
       "APOS-161       5\n",
       "APOS-138       4\n",
       "APOS-175       4\n",
       "11019942       4\n",
       "11020791       3\n",
       "1106880        3\n",
       "1104012        3\n",
       "1104535        2\n",
       "APOS-139       2\n",
       "APOS-127       1\n",
       "APOS-142       1\n",
       "dtype: int64"
      ]
     },
     "execution_count": 70,
     "metadata": {},
     "output_type": "execute_result"
    }
   ],
   "source": [
    "aposentados_df.value_counts(\"Fundamentação Aposentadoria (Cod. Sisac)\")"
   ]
  },
  {
   "cell_type": "markdown",
   "id": "19a0afe2",
   "metadata": {},
   "source": [
    "The information about the reasons why a person is retired is at the \"\"Fundamentação Aposentadoria (Cod. Sisac)\" column. The information is coded according to the **fundamentacao.csv** document."
   ]
  },
  {
   "cell_type": "code",
   "execution_count": 30,
   "id": "792ffd3e",
   "metadata": {},
   "outputs": [],
   "source": [
    "fund_df = pd.read_csv(\"/Users/erika/code/erika-chang/personal-projects/retirement-dashboard-brazil/data/raw/fundamentacao.csv\", sep=';', encoding=\"iso-8859-1\")"
   ]
  },
  {
   "cell_type": "code",
   "execution_count": 31,
   "id": "c330151c",
   "metadata": {},
   "outputs": [
    {
     "data": {
      "text/html": [
       "<div>\n",
       "<style scoped>\n",
       "    .dataframe tbody tr th:only-of-type {\n",
       "        vertical-align: middle;\n",
       "    }\n",
       "\n",
       "    .dataframe tbody tr th {\n",
       "        vertical-align: top;\n",
       "    }\n",
       "\n",
       "    .dataframe thead th {\n",
       "        text-align: right;\n",
       "    }\n",
       "</style>\n",
       "<table border=\"1\" class=\"dataframe\">\n",
       "  <thead>\n",
       "    <tr style=\"text-align: right;\">\n",
       "      <th></th>\n",
       "      <th>Código</th>\n",
       "      <th>Descrição</th>\n",
       "      <th>Base Legal</th>\n",
       "    </tr>\n",
       "  </thead>\n",
       "  <tbody>\n",
       "    <tr>\n",
       "      <th>0</th>\n",
       "      <td>11019861</td>\n",
       "      <td>APOSENTADORIA COMPULSÓRIA - EC 20</td>\n",
       "      <td>ART.40,§1,INC.II-CF COM REDAÇÃO EC 20, C/C ART...</td>\n",
       "    </tr>\n",
       "    <tr>\n",
       "      <th>1</th>\n",
       "      <td>11019942</td>\n",
       "      <td>APOSENTADORIA VOLUNTÁRIA INTEGRAL - EC 20 - RE...</td>\n",
       "      <td>ART.40,§1,III,\"A\"-CF COM REDAÇÃO EC20 E 3º,§2º...</td>\n",
       "    </tr>\n",
       "    <tr>\n",
       "      <th>2</th>\n",
       "      <td>11020791</td>\n",
       "      <td>APOSENTADORIA VOLUNTÁRIA PROPORCIONAL POR IDAD...</td>\n",
       "      <td>ART.40,§1,III,\"B\"-CF COM REDAÇÃO EC20 E 3º,§2º...</td>\n",
       "    </tr>\n",
       "  </tbody>\n",
       "</table>\n",
       "</div>"
      ],
      "text/plain": [
       "     Código                                          Descrição  \\\n",
       "0  11019861                  APOSENTADORIA COMPULSÓRIA - EC 20   \n",
       "1  11019942  APOSENTADORIA VOLUNTÁRIA INTEGRAL - EC 20 - RE...   \n",
       "2  11020791  APOSENTADORIA VOLUNTÁRIA PROPORCIONAL POR IDAD...   \n",
       "\n",
       "                                          Base Legal  \n",
       "0  ART.40,§1,INC.II-CF COM REDAÇÃO EC 20, C/C ART...  \n",
       "1  ART.40,§1,III,\"A\"-CF COM REDAÇÃO EC20 E 3º,§2º...  \n",
       "2  ART.40,§1,III,\"B\"-CF COM REDAÇÃO EC20 E 3º,§2º...  "
      ]
     },
     "execution_count": 31,
     "metadata": {},
     "output_type": "execute_result"
    }
   ],
   "source": [
    "fund_df.head(3)"
   ]
  },
  {
   "cell_type": "code",
   "execution_count": 32,
   "id": "b261527b",
   "metadata": {},
   "outputs": [],
   "source": [
    "fund_df.set_index(\"Código\", inplace=True)"
   ]
  },
  {
   "cell_type": "code",
   "execution_count": 33,
   "id": "5e694d4c",
   "metadata": {},
   "outputs": [],
   "source": [
    "fund_dict = fund_df.to_dict()"
   ]
  },
  {
   "cell_type": "code",
   "execution_count": 35,
   "id": "9290abb5",
   "metadata": {},
   "outputs": [],
   "source": [
    "aposentados_df[\"Fundamentação Aposentadoria (Cod. Sisac)\"] = aposentados_df[\"Fundamentação Aposentadoria (Cod. Sisac)\"].replace(fund_dict[\"Descrição\"])"
   ]
  },
  {
   "cell_type": "code",
   "execution_count": 36,
   "id": "8205ffe5",
   "metadata": {},
   "outputs": [
    {
     "data": {
      "text/html": [
       "<div>\n",
       "<style scoped>\n",
       "    .dataframe tbody tr th:only-of-type {\n",
       "        vertical-align: middle;\n",
       "    }\n",
       "\n",
       "    .dataframe tbody tr th {\n",
       "        vertical-align: top;\n",
       "    }\n",
       "\n",
       "    .dataframe thead th {\n",
       "        text-align: right;\n",
       "    }\n",
       "</style>\n",
       "<table border=\"1\" class=\"dataframe\">\n",
       "  <thead>\n",
       "    <tr style=\"text-align: right;\">\n",
       "      <th></th>\n",
       "      <th>Description</th>\n",
       "      <th>Frequency</th>\n",
       "    </tr>\n",
       "  </thead>\n",
       "  <tbody>\n",
       "    <tr>\n",
       "      <th>0</th>\n",
       "      <td>APOSENTADORIA VOLUNTÁRIA INTEGRAL - ART. 3º - ...</td>\n",
       "      <td>2267</td>\n",
       "    </tr>\n",
       "    <tr>\n",
       "      <th>1</th>\n",
       "      <td>APOSENTADORIA VOLUNTÁRIA PROPORCIONAL - LEI 81...</td>\n",
       "      <td>1743</td>\n",
       "    </tr>\n",
       "    <tr>\n",
       "      <th>2</th>\n",
       "      <td>APOSENTADORIA VOLUNTÁRIA INTEGRAL - LEI 8112/90</td>\n",
       "      <td>498</td>\n",
       "    </tr>\n",
       "    <tr>\n",
       "      <th>3</th>\n",
       "      <td>APOSENTADORIA VOLUNTÁRIA PROPORCIONAL - EC 20 ...</td>\n",
       "      <td>237</td>\n",
       "    </tr>\n",
       "    <tr>\n",
       "      <th>4</th>\n",
       "      <td>APOSENTADORIA VOLUNTÁRIA IDADE/TEMPO DE CONTRI...</td>\n",
       "      <td>171</td>\n",
       "    </tr>\n",
       "    <tr>\n",
       "      <th>5</th>\n",
       "      <td>APOSENTADORIA VOL. EC 103 - ART. 20</td>\n",
       "      <td>91</td>\n",
       "    </tr>\n",
       "    <tr>\n",
       "      <th>6</th>\n",
       "      <td>INTEGRALIZACAO DE PROVENTOS - Art. 190</td>\n",
       "      <td>73</td>\n",
       "    </tr>\n",
       "    <tr>\n",
       "      <th>7</th>\n",
       "      <td>APOSENTADORIA VOLUNTÁRIA INTEGRAL - EC 20 - RE...</td>\n",
       "      <td>62</td>\n",
       "    </tr>\n",
       "    <tr>\n",
       "      <th>8</th>\n",
       "      <td>APOSENTADORIA POR INVALIDEZ PERMANENTE - LEI 8...</td>\n",
       "      <td>32</td>\n",
       "    </tr>\n",
       "    <tr>\n",
       "      <th>9</th>\n",
       "      <td>APOSENTADORIA POR INVALIDEZ SIMPLES - LEI 8112/90</td>\n",
       "      <td>27</td>\n",
       "    </tr>\n",
       "  </tbody>\n",
       "</table>\n",
       "</div>"
      ],
      "text/plain": [
       "                                         Description  Frequency\n",
       "0  APOSENTADORIA VOLUNTÁRIA INTEGRAL - ART. 3º - ...       2267\n",
       "1  APOSENTADORIA VOLUNTÁRIA PROPORCIONAL - LEI 81...       1743\n",
       "2    APOSENTADORIA VOLUNTÁRIA INTEGRAL - LEI 8112/90        498\n",
       "3  APOSENTADORIA VOLUNTÁRIA PROPORCIONAL - EC 20 ...        237\n",
       "4  APOSENTADORIA VOLUNTÁRIA IDADE/TEMPO DE CONTRI...        171\n",
       "5               APOSENTADORIA VOL. EC 103 - ART. 20          91\n",
       "6             INTEGRALIZACAO DE PROVENTOS - Art. 190         73\n",
       "7  APOSENTADORIA VOLUNTÁRIA INTEGRAL - EC 20 - RE...         62\n",
       "8  APOSENTADORIA POR INVALIDEZ PERMANENTE - LEI 8...         32\n",
       "9  APOSENTADORIA POR INVALIDEZ SIMPLES - LEI 8112/90         27"
      ]
     },
     "execution_count": 36,
     "metadata": {},
     "output_type": "execute_result"
    }
   ],
   "source": [
    "top_reasons = aposentados_df.value_counts(\"Fundamentação Aposentadoria (Cod. Sisac)\").head(10).reset_index()\n",
    "top_reasons.columns = ['Description','Frequency']\n",
    "top_reasons"
   ]
  },
  {
   "cell_type": "code",
   "execution_count": 40,
   "id": "8b5089c4",
   "metadata": {},
   "outputs": [
    {
     "data": {
      "application/vnd.plotly.v1+json": {
       "config": {
        "plotlyServerURL": "https://plot.ly"
       },
       "data": [
        {
         "alignmentgroup": "True",
         "hovertemplate": "Number of Retirements=%{marker.color}<br>Retirement Reason=%{y}<extra></extra>",
         "legendgroup": "",
         "marker": {
          "color": [
           27,
           32,
           62,
           73,
           91,
           171,
           237,
           498,
           1743,
           2267
          ],
          "coloraxis": "coloraxis",
          "pattern": {
           "shape": ""
          }
         },
         "name": "",
         "offsetgroup": "",
         "orientation": "h",
         "showlegend": false,
         "textposition": "auto",
         "type": "bar",
         "x": [
          27,
          32,
          62,
          73,
          91,
          171,
          237,
          498,
          1743,
          2267
         ],
         "xaxis": "x",
         "y": [
          "APOSENTADORIA POR INVALIDEZ SIMPLES - LEI 8112/90",
          "APOSENTADORIA POR INVALIDEZ PERMANENTE - LEI 8112/90",
          "APOSENTADORIA VOLUNTÁRIA INTEGRAL - EC 20 - REGRA TRANSICAO",
          "INTEGRALIZACAO DE PROVENTOS - Art. 190",
          "APOSENTADORIA VOL. EC 103 - ART. 20 ",
          "APOSENTADORIA VOLUNTÁRIA IDADE/TEMPO DE CONTRIB. - ART.6º - EC 41",
          "APOSENTADORIA VOLUNTÁRIA PROPORCIONAL - EC 20 - REGRA TRANSICAO",
          "APOSENTADORIA VOLUNTÁRIA INTEGRAL - LEI 8112/90",
          "APOSENTADORIA VOLUNTÁRIA PROPORCIONAL - LEI 8112/90",
          "APOSENTADORIA VOLUNTÁRIA INTEGRAL - ART. 3º - EC 47"
         ],
         "yaxis": "y"
        }
       ],
       "layout": {
        "barmode": "relative",
        "coloraxis": {
         "colorbar": {
          "title": {
           "text": "Number of Retirements"
          }
         },
         "colorscale": [
          [
           0,
           "rgb(247,251,255)"
          ],
          [
           0.125,
           "rgb(222,235,247)"
          ],
          [
           0.25,
           "rgb(198,219,239)"
          ],
          [
           0.375,
           "rgb(158,202,225)"
          ],
          [
           0.5,
           "rgb(107,174,214)"
          ],
          [
           0.625,
           "rgb(66,146,198)"
          ],
          [
           0.75,
           "rgb(33,113,181)"
          ],
          [
           0.875,
           "rgb(8,81,156)"
          ],
          [
           1,
           "rgb(8,48,107)"
          ]
         ]
        },
        "legend": {
         "tracegroupgap": 0
        },
        "plot_bgcolor": "white",
        "showlegend": false,
        "template": {
         "data": {
          "bar": [
           {
            "error_x": {
             "color": "#2a3f5f"
            },
            "error_y": {
             "color": "#2a3f5f"
            },
            "marker": {
             "line": {
              "color": "#E5ECF6",
              "width": 0.5
             },
             "pattern": {
              "fillmode": "overlay",
              "size": 10,
              "solidity": 0.2
             }
            },
            "type": "bar"
           }
          ],
          "barpolar": [
           {
            "marker": {
             "line": {
              "color": "#E5ECF6",
              "width": 0.5
             },
             "pattern": {
              "fillmode": "overlay",
              "size": 10,
              "solidity": 0.2
             }
            },
            "type": "barpolar"
           }
          ],
          "carpet": [
           {
            "aaxis": {
             "endlinecolor": "#2a3f5f",
             "gridcolor": "white",
             "linecolor": "white",
             "minorgridcolor": "white",
             "startlinecolor": "#2a3f5f"
            },
            "baxis": {
             "endlinecolor": "#2a3f5f",
             "gridcolor": "white",
             "linecolor": "white",
             "minorgridcolor": "white",
             "startlinecolor": "#2a3f5f"
            },
            "type": "carpet"
           }
          ],
          "choropleth": [
           {
            "colorbar": {
             "outlinewidth": 0,
             "ticks": ""
            },
            "type": "choropleth"
           }
          ],
          "contour": [
           {
            "colorbar": {
             "outlinewidth": 0,
             "ticks": ""
            },
            "colorscale": [
             [
              0,
              "#0d0887"
             ],
             [
              0.1111111111111111,
              "#46039f"
             ],
             [
              0.2222222222222222,
              "#7201a8"
             ],
             [
              0.3333333333333333,
              "#9c179e"
             ],
             [
              0.4444444444444444,
              "#bd3786"
             ],
             [
              0.5555555555555556,
              "#d8576b"
             ],
             [
              0.6666666666666666,
              "#ed7953"
             ],
             [
              0.7777777777777778,
              "#fb9f3a"
             ],
             [
              0.8888888888888888,
              "#fdca26"
             ],
             [
              1,
              "#f0f921"
             ]
            ],
            "type": "contour"
           }
          ],
          "contourcarpet": [
           {
            "colorbar": {
             "outlinewidth": 0,
             "ticks": ""
            },
            "type": "contourcarpet"
           }
          ],
          "heatmap": [
           {
            "colorbar": {
             "outlinewidth": 0,
             "ticks": ""
            },
            "colorscale": [
             [
              0,
              "#0d0887"
             ],
             [
              0.1111111111111111,
              "#46039f"
             ],
             [
              0.2222222222222222,
              "#7201a8"
             ],
             [
              0.3333333333333333,
              "#9c179e"
             ],
             [
              0.4444444444444444,
              "#bd3786"
             ],
             [
              0.5555555555555556,
              "#d8576b"
             ],
             [
              0.6666666666666666,
              "#ed7953"
             ],
             [
              0.7777777777777778,
              "#fb9f3a"
             ],
             [
              0.8888888888888888,
              "#fdca26"
             ],
             [
              1,
              "#f0f921"
             ]
            ],
            "type": "heatmap"
           }
          ],
          "heatmapgl": [
           {
            "colorbar": {
             "outlinewidth": 0,
             "ticks": ""
            },
            "colorscale": [
             [
              0,
              "#0d0887"
             ],
             [
              0.1111111111111111,
              "#46039f"
             ],
             [
              0.2222222222222222,
              "#7201a8"
             ],
             [
              0.3333333333333333,
              "#9c179e"
             ],
             [
              0.4444444444444444,
              "#bd3786"
             ],
             [
              0.5555555555555556,
              "#d8576b"
             ],
             [
              0.6666666666666666,
              "#ed7953"
             ],
             [
              0.7777777777777778,
              "#fb9f3a"
             ],
             [
              0.8888888888888888,
              "#fdca26"
             ],
             [
              1,
              "#f0f921"
             ]
            ],
            "type": "heatmapgl"
           }
          ],
          "histogram": [
           {
            "marker": {
             "pattern": {
              "fillmode": "overlay",
              "size": 10,
              "solidity": 0.2
             }
            },
            "type": "histogram"
           }
          ],
          "histogram2d": [
           {
            "colorbar": {
             "outlinewidth": 0,
             "ticks": ""
            },
            "colorscale": [
             [
              0,
              "#0d0887"
             ],
             [
              0.1111111111111111,
              "#46039f"
             ],
             [
              0.2222222222222222,
              "#7201a8"
             ],
             [
              0.3333333333333333,
              "#9c179e"
             ],
             [
              0.4444444444444444,
              "#bd3786"
             ],
             [
              0.5555555555555556,
              "#d8576b"
             ],
             [
              0.6666666666666666,
              "#ed7953"
             ],
             [
              0.7777777777777778,
              "#fb9f3a"
             ],
             [
              0.8888888888888888,
              "#fdca26"
             ],
             [
              1,
              "#f0f921"
             ]
            ],
            "type": "histogram2d"
           }
          ],
          "histogram2dcontour": [
           {
            "colorbar": {
             "outlinewidth": 0,
             "ticks": ""
            },
            "colorscale": [
             [
              0,
              "#0d0887"
             ],
             [
              0.1111111111111111,
              "#46039f"
             ],
             [
              0.2222222222222222,
              "#7201a8"
             ],
             [
              0.3333333333333333,
              "#9c179e"
             ],
             [
              0.4444444444444444,
              "#bd3786"
             ],
             [
              0.5555555555555556,
              "#d8576b"
             ],
             [
              0.6666666666666666,
              "#ed7953"
             ],
             [
              0.7777777777777778,
              "#fb9f3a"
             ],
             [
              0.8888888888888888,
              "#fdca26"
             ],
             [
              1,
              "#f0f921"
             ]
            ],
            "type": "histogram2dcontour"
           }
          ],
          "mesh3d": [
           {
            "colorbar": {
             "outlinewidth": 0,
             "ticks": ""
            },
            "type": "mesh3d"
           }
          ],
          "parcoords": [
           {
            "line": {
             "colorbar": {
              "outlinewidth": 0,
              "ticks": ""
             }
            },
            "type": "parcoords"
           }
          ],
          "pie": [
           {
            "automargin": true,
            "type": "pie"
           }
          ],
          "scatter": [
           {
            "fillpattern": {
             "fillmode": "overlay",
             "size": 10,
             "solidity": 0.2
            },
            "type": "scatter"
           }
          ],
          "scatter3d": [
           {
            "line": {
             "colorbar": {
              "outlinewidth": 0,
              "ticks": ""
             }
            },
            "marker": {
             "colorbar": {
              "outlinewidth": 0,
              "ticks": ""
             }
            },
            "type": "scatter3d"
           }
          ],
          "scattercarpet": [
           {
            "marker": {
             "colorbar": {
              "outlinewidth": 0,
              "ticks": ""
             }
            },
            "type": "scattercarpet"
           }
          ],
          "scattergeo": [
           {
            "marker": {
             "colorbar": {
              "outlinewidth": 0,
              "ticks": ""
             }
            },
            "type": "scattergeo"
           }
          ],
          "scattergl": [
           {
            "marker": {
             "colorbar": {
              "outlinewidth": 0,
              "ticks": ""
             }
            },
            "type": "scattergl"
           }
          ],
          "scattermapbox": [
           {
            "marker": {
             "colorbar": {
              "outlinewidth": 0,
              "ticks": ""
             }
            },
            "type": "scattermapbox"
           }
          ],
          "scatterpolar": [
           {
            "marker": {
             "colorbar": {
              "outlinewidth": 0,
              "ticks": ""
             }
            },
            "type": "scatterpolar"
           }
          ],
          "scatterpolargl": [
           {
            "marker": {
             "colorbar": {
              "outlinewidth": 0,
              "ticks": ""
             }
            },
            "type": "scatterpolargl"
           }
          ],
          "scatterternary": [
           {
            "marker": {
             "colorbar": {
              "outlinewidth": 0,
              "ticks": ""
             }
            },
            "type": "scatterternary"
           }
          ],
          "surface": [
           {
            "colorbar": {
             "outlinewidth": 0,
             "ticks": ""
            },
            "colorscale": [
             [
              0,
              "#0d0887"
             ],
             [
              0.1111111111111111,
              "#46039f"
             ],
             [
              0.2222222222222222,
              "#7201a8"
             ],
             [
              0.3333333333333333,
              "#9c179e"
             ],
             [
              0.4444444444444444,
              "#bd3786"
             ],
             [
              0.5555555555555556,
              "#d8576b"
             ],
             [
              0.6666666666666666,
              "#ed7953"
             ],
             [
              0.7777777777777778,
              "#fb9f3a"
             ],
             [
              0.8888888888888888,
              "#fdca26"
             ],
             [
              1,
              "#f0f921"
             ]
            ],
            "type": "surface"
           }
          ],
          "table": [
           {
            "cells": {
             "fill": {
              "color": "#EBF0F8"
             },
             "line": {
              "color": "white"
             }
            },
            "header": {
             "fill": {
              "color": "#C8D4E3"
             },
             "line": {
              "color": "white"
             }
            },
            "type": "table"
           }
          ]
         },
         "layout": {
          "annotationdefaults": {
           "arrowcolor": "#2a3f5f",
           "arrowhead": 0,
           "arrowwidth": 1
          },
          "autotypenumbers": "strict",
          "coloraxis": {
           "colorbar": {
            "outlinewidth": 0,
            "ticks": ""
           }
          },
          "colorscale": {
           "diverging": [
            [
             0,
             "#8e0152"
            ],
            [
             0.1,
             "#c51b7d"
            ],
            [
             0.2,
             "#de77ae"
            ],
            [
             0.3,
             "#f1b6da"
            ],
            [
             0.4,
             "#fde0ef"
            ],
            [
             0.5,
             "#f7f7f7"
            ],
            [
             0.6,
             "#e6f5d0"
            ],
            [
             0.7,
             "#b8e186"
            ],
            [
             0.8,
             "#7fbc41"
            ],
            [
             0.9,
             "#4d9221"
            ],
            [
             1,
             "#276419"
            ]
           ],
           "sequential": [
            [
             0,
             "#0d0887"
            ],
            [
             0.1111111111111111,
             "#46039f"
            ],
            [
             0.2222222222222222,
             "#7201a8"
            ],
            [
             0.3333333333333333,
             "#9c179e"
            ],
            [
             0.4444444444444444,
             "#bd3786"
            ],
            [
             0.5555555555555556,
             "#d8576b"
            ],
            [
             0.6666666666666666,
             "#ed7953"
            ],
            [
             0.7777777777777778,
             "#fb9f3a"
            ],
            [
             0.8888888888888888,
             "#fdca26"
            ],
            [
             1,
             "#f0f921"
            ]
           ],
           "sequentialminus": [
            [
             0,
             "#0d0887"
            ],
            [
             0.1111111111111111,
             "#46039f"
            ],
            [
             0.2222222222222222,
             "#7201a8"
            ],
            [
             0.3333333333333333,
             "#9c179e"
            ],
            [
             0.4444444444444444,
             "#bd3786"
            ],
            [
             0.5555555555555556,
             "#d8576b"
            ],
            [
             0.6666666666666666,
             "#ed7953"
            ],
            [
             0.7777777777777778,
             "#fb9f3a"
            ],
            [
             0.8888888888888888,
             "#fdca26"
            ],
            [
             1,
             "#f0f921"
            ]
           ]
          },
          "colorway": [
           "#636efa",
           "#EF553B",
           "#00cc96",
           "#ab63fa",
           "#FFA15A",
           "#19d3f3",
           "#FF6692",
           "#B6E880",
           "#FF97FF",
           "#FECB52"
          ],
          "font": {
           "color": "#2a3f5f"
          },
          "geo": {
           "bgcolor": "white",
           "lakecolor": "white",
           "landcolor": "#E5ECF6",
           "showlakes": true,
           "showland": true,
           "subunitcolor": "white"
          },
          "hoverlabel": {
           "align": "left"
          },
          "hovermode": "closest",
          "mapbox": {
           "style": "light"
          },
          "paper_bgcolor": "white",
          "plot_bgcolor": "#E5ECF6",
          "polar": {
           "angularaxis": {
            "gridcolor": "white",
            "linecolor": "white",
            "ticks": ""
           },
           "bgcolor": "#E5ECF6",
           "radialaxis": {
            "gridcolor": "white",
            "linecolor": "white",
            "ticks": ""
           }
          },
          "scene": {
           "xaxis": {
            "backgroundcolor": "#E5ECF6",
            "gridcolor": "white",
            "gridwidth": 2,
            "linecolor": "white",
            "showbackground": true,
            "ticks": "",
            "zerolinecolor": "white"
           },
           "yaxis": {
            "backgroundcolor": "#E5ECF6",
            "gridcolor": "white",
            "gridwidth": 2,
            "linecolor": "white",
            "showbackground": true,
            "ticks": "",
            "zerolinecolor": "white"
           },
           "zaxis": {
            "backgroundcolor": "#E5ECF6",
            "gridcolor": "white",
            "gridwidth": 2,
            "linecolor": "white",
            "showbackground": true,
            "ticks": "",
            "zerolinecolor": "white"
           }
          },
          "shapedefaults": {
           "line": {
            "color": "#2a3f5f"
           }
          },
          "ternary": {
           "aaxis": {
            "gridcolor": "white",
            "linecolor": "white",
            "ticks": ""
           },
           "baxis": {
            "gridcolor": "white",
            "linecolor": "white",
            "ticks": ""
           },
           "bgcolor": "#E5ECF6",
           "caxis": {
            "gridcolor": "white",
            "linecolor": "white",
            "ticks": ""
           }
          },
          "title": {
           "x": 0.05
          },
          "xaxis": {
           "automargin": true,
           "gridcolor": "white",
           "linecolor": "white",
           "ticks": "",
           "title": {
            "standoff": 15
           },
           "zerolinecolor": "white",
           "zerolinewidth": 2
          },
          "yaxis": {
           "automargin": true,
           "gridcolor": "white",
           "linecolor": "white",
           "ticks": "",
           "title": {
            "standoff": 15
           },
           "zerolinecolor": "white",
           "zerolinewidth": 2
          }
         }
        },
        "title": {
         "text": "Top 10 Retirement Reasons – Central Bank Civil Servants"
        },
        "xaxis": {
         "anchor": "y",
         "domain": [
          0,
          1
         ],
         "title": {
          "text": "Number of Retirements"
         }
        },
        "yaxis": {
         "anchor": "x",
         "domain": [
          0,
          1
         ],
         "title": {
          "text": ""
         }
        }
       }
      },
      "text/html": [
       "<div>                            <div id=\"299e514a-c773-4fee-807d-1d7dfa2e8349\" class=\"plotly-graph-div\" style=\"height:525px; width:100%;\"></div>            <script type=\"text/javascript\">                require([\"plotly\"], function(Plotly) {                    window.PLOTLYENV=window.PLOTLYENV || {};                                    if (document.getElementById(\"299e514a-c773-4fee-807d-1d7dfa2e8349\")) {                    Plotly.newPlot(                        \"299e514a-c773-4fee-807d-1d7dfa2e8349\",                        [{\"alignmentgroup\":\"True\",\"hovertemplate\":\"Number of Retirements=%{marker.color}<br>Retirement Reason=%{y}<extra></extra>\",\"legendgroup\":\"\",\"marker\":{\"color\":[27,32,62,73,91,171,237,498,1743,2267],\"coloraxis\":\"coloraxis\",\"pattern\":{\"shape\":\"\"}},\"name\":\"\",\"offsetgroup\":\"\",\"orientation\":\"h\",\"showlegend\":false,\"textposition\":\"auto\",\"x\":[27,32,62,73,91,171,237,498,1743,2267],\"xaxis\":\"x\",\"y\":[\"APOSENTADORIA POR INVALIDEZ SIMPLES - LEI 8112/90\",\"APOSENTADORIA POR INVALIDEZ PERMANENTE - LEI 8112/90\",\"APOSENTADORIA VOLUNT\\u00c1RIA INTEGRAL - EC 20 - REGRA TRANSICAO\",\"INTEGRALIZACAO DE PROVENTOS - Art. 190\",\"APOSENTADORIA VOL. EC 103 - ART. 20 \",\"APOSENTADORIA VOLUNT\\u00c1RIA IDADE/TEMPO DE CONTRIB. - ART.6\\u00ba - EC 41\",\"APOSENTADORIA VOLUNT\\u00c1RIA PROPORCIONAL - EC 20 - REGRA TRANSICAO\",\"APOSENTADORIA VOLUNT\\u00c1RIA INTEGRAL - LEI 8112/90\",\"APOSENTADORIA VOLUNT\\u00c1RIA PROPORCIONAL - LEI 8112/90\",\"APOSENTADORIA VOLUNT\\u00c1RIA INTEGRAL - ART. 3\\u00ba - EC 47\"],\"yaxis\":\"y\",\"type\":\"bar\"}],                        {\"template\":{\"data\":{\"histogram2dcontour\":[{\"type\":\"histogram2dcontour\",\"colorbar\":{\"outlinewidth\":0,\"ticks\":\"\"},\"colorscale\":[[0.0,\"#0d0887\"],[0.1111111111111111,\"#46039f\"],[0.2222222222222222,\"#7201a8\"],[0.3333333333333333,\"#9c179e\"],[0.4444444444444444,\"#bd3786\"],[0.5555555555555556,\"#d8576b\"],[0.6666666666666666,\"#ed7953\"],[0.7777777777777778,\"#fb9f3a\"],[0.8888888888888888,\"#fdca26\"],[1.0,\"#f0f921\"]]}],\"choropleth\":[{\"type\":\"choropleth\",\"colorbar\":{\"outlinewidth\":0,\"ticks\":\"\"}}],\"histogram2d\":[{\"type\":\"histogram2d\",\"colorbar\":{\"outlinewidth\":0,\"ticks\":\"\"},\"colorscale\":[[0.0,\"#0d0887\"],[0.1111111111111111,\"#46039f\"],[0.2222222222222222,\"#7201a8\"],[0.3333333333333333,\"#9c179e\"],[0.4444444444444444,\"#bd3786\"],[0.5555555555555556,\"#d8576b\"],[0.6666666666666666,\"#ed7953\"],[0.7777777777777778,\"#fb9f3a\"],[0.8888888888888888,\"#fdca26\"],[1.0,\"#f0f921\"]]}],\"heatmap\":[{\"type\":\"heatmap\",\"colorbar\":{\"outlinewidth\":0,\"ticks\":\"\"},\"colorscale\":[[0.0,\"#0d0887\"],[0.1111111111111111,\"#46039f\"],[0.2222222222222222,\"#7201a8\"],[0.3333333333333333,\"#9c179e\"],[0.4444444444444444,\"#bd3786\"],[0.5555555555555556,\"#d8576b\"],[0.6666666666666666,\"#ed7953\"],[0.7777777777777778,\"#fb9f3a\"],[0.8888888888888888,\"#fdca26\"],[1.0,\"#f0f921\"]]}],\"heatmapgl\":[{\"type\":\"heatmapgl\",\"colorbar\":{\"outlinewidth\":0,\"ticks\":\"\"},\"colorscale\":[[0.0,\"#0d0887\"],[0.1111111111111111,\"#46039f\"],[0.2222222222222222,\"#7201a8\"],[0.3333333333333333,\"#9c179e\"],[0.4444444444444444,\"#bd3786\"],[0.5555555555555556,\"#d8576b\"],[0.6666666666666666,\"#ed7953\"],[0.7777777777777778,\"#fb9f3a\"],[0.8888888888888888,\"#fdca26\"],[1.0,\"#f0f921\"]]}],\"contourcarpet\":[{\"type\":\"contourcarpet\",\"colorbar\":{\"outlinewidth\":0,\"ticks\":\"\"}}],\"contour\":[{\"type\":\"contour\",\"colorbar\":{\"outlinewidth\":0,\"ticks\":\"\"},\"colorscale\":[[0.0,\"#0d0887\"],[0.1111111111111111,\"#46039f\"],[0.2222222222222222,\"#7201a8\"],[0.3333333333333333,\"#9c179e\"],[0.4444444444444444,\"#bd3786\"],[0.5555555555555556,\"#d8576b\"],[0.6666666666666666,\"#ed7953\"],[0.7777777777777778,\"#fb9f3a\"],[0.8888888888888888,\"#fdca26\"],[1.0,\"#f0f921\"]]}],\"surface\":[{\"type\":\"surface\",\"colorbar\":{\"outlinewidth\":0,\"ticks\":\"\"},\"colorscale\":[[0.0,\"#0d0887\"],[0.1111111111111111,\"#46039f\"],[0.2222222222222222,\"#7201a8\"],[0.3333333333333333,\"#9c179e\"],[0.4444444444444444,\"#bd3786\"],[0.5555555555555556,\"#d8576b\"],[0.6666666666666666,\"#ed7953\"],[0.7777777777777778,\"#fb9f3a\"],[0.8888888888888888,\"#fdca26\"],[1.0,\"#f0f921\"]]}],\"mesh3d\":[{\"type\":\"mesh3d\",\"colorbar\":{\"outlinewidth\":0,\"ticks\":\"\"}}],\"scatter\":[{\"fillpattern\":{\"fillmode\":\"overlay\",\"size\":10,\"solidity\":0.2},\"type\":\"scatter\"}],\"parcoords\":[{\"type\":\"parcoords\",\"line\":{\"colorbar\":{\"outlinewidth\":0,\"ticks\":\"\"}}}],\"scatterpolargl\":[{\"type\":\"scatterpolargl\",\"marker\":{\"colorbar\":{\"outlinewidth\":0,\"ticks\":\"\"}}}],\"bar\":[{\"error_x\":{\"color\":\"#2a3f5f\"},\"error_y\":{\"color\":\"#2a3f5f\"},\"marker\":{\"line\":{\"color\":\"#E5ECF6\",\"width\":0.5},\"pattern\":{\"fillmode\":\"overlay\",\"size\":10,\"solidity\":0.2}},\"type\":\"bar\"}],\"scattergeo\":[{\"type\":\"scattergeo\",\"marker\":{\"colorbar\":{\"outlinewidth\":0,\"ticks\":\"\"}}}],\"scatterpolar\":[{\"type\":\"scatterpolar\",\"marker\":{\"colorbar\":{\"outlinewidth\":0,\"ticks\":\"\"}}}],\"histogram\":[{\"marker\":{\"pattern\":{\"fillmode\":\"overlay\",\"size\":10,\"solidity\":0.2}},\"type\":\"histogram\"}],\"scattergl\":[{\"type\":\"scattergl\",\"marker\":{\"colorbar\":{\"outlinewidth\":0,\"ticks\":\"\"}}}],\"scatter3d\":[{\"type\":\"scatter3d\",\"line\":{\"colorbar\":{\"outlinewidth\":0,\"ticks\":\"\"}},\"marker\":{\"colorbar\":{\"outlinewidth\":0,\"ticks\":\"\"}}}],\"scattermapbox\":[{\"type\":\"scattermapbox\",\"marker\":{\"colorbar\":{\"outlinewidth\":0,\"ticks\":\"\"}}}],\"scatterternary\":[{\"type\":\"scatterternary\",\"marker\":{\"colorbar\":{\"outlinewidth\":0,\"ticks\":\"\"}}}],\"scattercarpet\":[{\"type\":\"scattercarpet\",\"marker\":{\"colorbar\":{\"outlinewidth\":0,\"ticks\":\"\"}}}],\"carpet\":[{\"aaxis\":{\"endlinecolor\":\"#2a3f5f\",\"gridcolor\":\"white\",\"linecolor\":\"white\",\"minorgridcolor\":\"white\",\"startlinecolor\":\"#2a3f5f\"},\"baxis\":{\"endlinecolor\":\"#2a3f5f\",\"gridcolor\":\"white\",\"linecolor\":\"white\",\"minorgridcolor\":\"white\",\"startlinecolor\":\"#2a3f5f\"},\"type\":\"carpet\"}],\"table\":[{\"cells\":{\"fill\":{\"color\":\"#EBF0F8\"},\"line\":{\"color\":\"white\"}},\"header\":{\"fill\":{\"color\":\"#C8D4E3\"},\"line\":{\"color\":\"white\"}},\"type\":\"table\"}],\"barpolar\":[{\"marker\":{\"line\":{\"color\":\"#E5ECF6\",\"width\":0.5},\"pattern\":{\"fillmode\":\"overlay\",\"size\":10,\"solidity\":0.2}},\"type\":\"barpolar\"}],\"pie\":[{\"automargin\":true,\"type\":\"pie\"}]},\"layout\":{\"autotypenumbers\":\"strict\",\"colorway\":[\"#636efa\",\"#EF553B\",\"#00cc96\",\"#ab63fa\",\"#FFA15A\",\"#19d3f3\",\"#FF6692\",\"#B6E880\",\"#FF97FF\",\"#FECB52\"],\"font\":{\"color\":\"#2a3f5f\"},\"hovermode\":\"closest\",\"hoverlabel\":{\"align\":\"left\"},\"paper_bgcolor\":\"white\",\"plot_bgcolor\":\"#E5ECF6\",\"polar\":{\"bgcolor\":\"#E5ECF6\",\"angularaxis\":{\"gridcolor\":\"white\",\"linecolor\":\"white\",\"ticks\":\"\"},\"radialaxis\":{\"gridcolor\":\"white\",\"linecolor\":\"white\",\"ticks\":\"\"}},\"ternary\":{\"bgcolor\":\"#E5ECF6\",\"aaxis\":{\"gridcolor\":\"white\",\"linecolor\":\"white\",\"ticks\":\"\"},\"baxis\":{\"gridcolor\":\"white\",\"linecolor\":\"white\",\"ticks\":\"\"},\"caxis\":{\"gridcolor\":\"white\",\"linecolor\":\"white\",\"ticks\":\"\"}},\"coloraxis\":{\"colorbar\":{\"outlinewidth\":0,\"ticks\":\"\"}},\"colorscale\":{\"sequential\":[[0.0,\"#0d0887\"],[0.1111111111111111,\"#46039f\"],[0.2222222222222222,\"#7201a8\"],[0.3333333333333333,\"#9c179e\"],[0.4444444444444444,\"#bd3786\"],[0.5555555555555556,\"#d8576b\"],[0.6666666666666666,\"#ed7953\"],[0.7777777777777778,\"#fb9f3a\"],[0.8888888888888888,\"#fdca26\"],[1.0,\"#f0f921\"]],\"sequentialminus\":[[0.0,\"#0d0887\"],[0.1111111111111111,\"#46039f\"],[0.2222222222222222,\"#7201a8\"],[0.3333333333333333,\"#9c179e\"],[0.4444444444444444,\"#bd3786\"],[0.5555555555555556,\"#d8576b\"],[0.6666666666666666,\"#ed7953\"],[0.7777777777777778,\"#fb9f3a\"],[0.8888888888888888,\"#fdca26\"],[1.0,\"#f0f921\"]],\"diverging\":[[0,\"#8e0152\"],[0.1,\"#c51b7d\"],[0.2,\"#de77ae\"],[0.3,\"#f1b6da\"],[0.4,\"#fde0ef\"],[0.5,\"#f7f7f7\"],[0.6,\"#e6f5d0\"],[0.7,\"#b8e186\"],[0.8,\"#7fbc41\"],[0.9,\"#4d9221\"],[1,\"#276419\"]]},\"xaxis\":{\"gridcolor\":\"white\",\"linecolor\":\"white\",\"ticks\":\"\",\"title\":{\"standoff\":15},\"zerolinecolor\":\"white\",\"automargin\":true,\"zerolinewidth\":2},\"yaxis\":{\"gridcolor\":\"white\",\"linecolor\":\"white\",\"ticks\":\"\",\"title\":{\"standoff\":15},\"zerolinecolor\":\"white\",\"automargin\":true,\"zerolinewidth\":2},\"scene\":{\"xaxis\":{\"backgroundcolor\":\"#E5ECF6\",\"gridcolor\":\"white\",\"linecolor\":\"white\",\"showbackground\":true,\"ticks\":\"\",\"zerolinecolor\":\"white\",\"gridwidth\":2},\"yaxis\":{\"backgroundcolor\":\"#E5ECF6\",\"gridcolor\":\"white\",\"linecolor\":\"white\",\"showbackground\":true,\"ticks\":\"\",\"zerolinecolor\":\"white\",\"gridwidth\":2},\"zaxis\":{\"backgroundcolor\":\"#E5ECF6\",\"gridcolor\":\"white\",\"linecolor\":\"white\",\"showbackground\":true,\"ticks\":\"\",\"zerolinecolor\":\"white\",\"gridwidth\":2}},\"shapedefaults\":{\"line\":{\"color\":\"#2a3f5f\"}},\"annotationdefaults\":{\"arrowcolor\":\"#2a3f5f\",\"arrowhead\":0,\"arrowwidth\":1},\"geo\":{\"bgcolor\":\"white\",\"landcolor\":\"#E5ECF6\",\"subunitcolor\":\"white\",\"showland\":true,\"showlakes\":true,\"lakecolor\":\"white\"},\"title\":{\"x\":0.05},\"mapbox\":{\"style\":\"light\"}}},\"xaxis\":{\"anchor\":\"y\",\"domain\":[0.0,1.0],\"title\":{\"text\":\"Number of Retirements\"}},\"yaxis\":{\"anchor\":\"x\",\"domain\":[0.0,1.0],\"title\":{\"text\":\"\"}},\"coloraxis\":{\"colorbar\":{\"title\":{\"text\":\"Number of Retirements\"}},\"colorscale\":[[0.0,\"rgb(247,251,255)\"],[0.125,\"rgb(222,235,247)\"],[0.25,\"rgb(198,219,239)\"],[0.375,\"rgb(158,202,225)\"],[0.5,\"rgb(107,174,214)\"],[0.625,\"rgb(66,146,198)\"],[0.75,\"rgb(33,113,181)\"],[0.875,\"rgb(8,81,156)\"],[1.0,\"rgb(8,48,107)\"]]},\"legend\":{\"tracegroupgap\":0},\"title\":{\"text\":\"Top 10 Retirement Reasons \\u2013 Central Bank Civil Servants\"},\"barmode\":\"relative\",\"plot_bgcolor\":\"white\",\"showlegend\":false},                        {\"responsive\": true}                    ).then(function(){\n",
       "                            \n",
       "var gd = document.getElementById('299e514a-c773-4fee-807d-1d7dfa2e8349');\n",
       "var x = new MutationObserver(function (mutations, observer) {{\n",
       "        var display = window.getComputedStyle(gd).display;\n",
       "        if (!display || display === 'none') {{\n",
       "            console.log([gd, 'removed!']);\n",
       "            Plotly.purge(gd);\n",
       "            observer.disconnect();\n",
       "        }}\n",
       "}});\n",
       "\n",
       "// Listen for the removal of the full notebook cells\n",
       "var notebookContainer = gd.closest('#notebook-container');\n",
       "if (notebookContainer) {{\n",
       "    x.observe(notebookContainer, {childList: true});\n",
       "}}\n",
       "\n",
       "// Listen for the clearing of the current output cell\n",
       "var outputEl = gd.closest('.output');\n",
       "if (outputEl) {{\n",
       "    x.observe(outputEl, {childList: true});\n",
       "}}\n",
       "\n",
       "                        })                };                });            </script>        </div>"
      ]
     },
     "metadata": {},
     "output_type": "display_data"
    }
   ],
   "source": [
    "fig = px.bar(\n",
    "    top_reasons.sort_values(\"Frequency\"),\n",
    "    x=\"Frequency\",\n",
    "    y=\"Description\",\n",
    "    orientation=\"h\",\n",
    "    title=\"Top 10 Retirement Reasons – Central Bank Civil Servants\",\n",
    "    labels={\"Frequency\": \"Number of Retirements\", \"Description\": \"Retirement Reason\"},\n",
    "    color=\"Frequency\",\n",
    "    color_continuous_scale=\"Blues\"\n",
    ")\n",
    "\n",
    "fig.update_layout(\n",
    "    yaxis_title=\"\",\n",
    "    xaxis_title=\"Number of Retirements\",\n",
    "    plot_bgcolor=\"white\",\n",
    "    showlegend=False\n",
    ")\n",
    "\n",
    "fig.show()"
   ]
  },
  {
   "cell_type": "markdown",
   "id": "33857174",
   "metadata": {},
   "source": [
    "An analysis of the retirement justifications listed under the Fundamentação da Aposentadoria reveals important patterns in how public servants at the Central Bank of Brazil have exited their careers. The data shows a clear predominance of voluntary retirements, heavily shaped by successive waves of pension reform in Brazilian legislation.\n",
    "\n",
    "The **most common** justification by far is **“Aposentadoria Voluntária Integral - Art. 3º - EC 47”**, with 2,267 recorded cases. This refers to a transitional rule introduced by Constitutional Amendment No. 47/2005, which allowed many long-tenured civil servants to **retire with full benefits under more favorable conditions than newer entrants**. This high frequency suggests that a significant portion of the workforce benefited from the legal stability and privileges afforded by earlier retirement rules.\n",
    "\n",
    "Following closely is the proportional **voluntary retirement under Law 8.112/90**, Brazil’s statute governing civil servants, with 1,743 occurrences. This pathway typically applies to **employees who chose to retire before meeting the criteria for full retirement**, resulting in reduced benefits. The popularity of this route may reflect a balance between personal career timing and institutional policies.\n",
    "\n",
    "Other notable categories include retirements under EC 20 and EC 41, two major constitutional reforms that reshaped retirement eligibility. These are generally transition rules for those caught between legislative changes, indicating how legal flux over decades has left its mark on retirement behavior."
   ]
  },
  {
   "cell_type": "markdown",
   "id": "51b9f1b9",
   "metadata": {},
   "source": [
    "# 👥 Personal Profile"
   ]
  },
  {
   "cell_type": "code",
   "execution_count": 104,
   "id": "ed77973f",
   "metadata": {},
   "outputs": [],
   "source": [
    "class_df = pd.read_csv(\"/Users/erika/code/erika-chang/personal-projects/retirement-dashboard-brazil/data/raw/classes.csv\", sep=';', encoding=\"iso-8859-1\")"
   ]
  },
  {
   "cell_type": "code",
   "execution_count": 107,
   "id": "c4ee2687",
   "metadata": {},
   "outputs": [],
   "source": [
    "class_df.set_index('Código', inplace=True)"
   ]
  },
  {
   "cell_type": "code",
   "execution_count": 108,
   "id": "95b9d756",
   "metadata": {},
   "outputs": [],
   "source": [
    "class_dict = class_df.to_dict()"
   ]
  },
  {
   "cell_type": "code",
   "execution_count": 110,
   "id": "b8f18a2c",
   "metadata": {},
   "outputs": [
    {
     "data": {
      "text/plain": [
       "{'BCESPAA': 'Analista do Banco Central, Classe A',\n",
       " 'BCESPAB': 'Analista do Banco Central, Classe B',\n",
       " 'BCESPAC': 'Analista do Banco Central, Classe C',\n",
       " 'BCESPAE': 'Analista do Banco Central, Classe Especial',\n",
       " 'BCESPTA': 'Técnico do Banco Central, Classe A',\n",
       " 'BCESPTB': 'Técnico do Banco Central, Classe B',\n",
       " 'BCESPTC': 'Técnico do Banco Central, Classe C',\n",
       " 'BCESPTE': 'Técnico do Banco Central, Classe Especial',\n",
       " 'BCJURP1': 'Procurador do Banco Central, Primeira Categoria',\n",
       " 'BCJURP2': 'Procurador do Banco Central, Segunda Categoria',\n",
       " 'BCJURPE': 'Procurador do Banco Central, Categoria Especial'}"
      ]
     },
     "execution_count": 110,
     "metadata": {},
     "output_type": "execute_result"
    }
   ],
   "source": [
    "class_dict['Descrição']"
   ]
  },
  {
   "cell_type": "code",
   "execution_count": 111,
   "id": "3ff7db4f",
   "metadata": {},
   "outputs": [],
   "source": [
    "aposentados_df[\"Classe\"] = aposentados_df[\"Classe\"].replace(class_dict[\"Descrição\"])"
   ]
  },
  {
   "cell_type": "code",
   "execution_count": 45,
   "id": "e87fab40",
   "metadata": {},
   "outputs": [
    {
     "data": {
      "text/html": [
       "<div>\n",
       "<style scoped>\n",
       "    .dataframe tbody tr th:only-of-type {\n",
       "        vertical-align: middle;\n",
       "    }\n",
       "\n",
       "    .dataframe tbody tr th {\n",
       "        vertical-align: top;\n",
       "    }\n",
       "\n",
       "    .dataframe thead th {\n",
       "        text-align: right;\n",
       "    }\n",
       "</style>\n",
       "<table border=\"1\" class=\"dataframe\">\n",
       "  <thead>\n",
       "    <tr style=\"text-align: right;\">\n",
       "      <th></th>\n",
       "      <th>Class</th>\n",
       "      <th>Retiree number</th>\n",
       "    </tr>\n",
       "  </thead>\n",
       "  <tbody>\n",
       "    <tr>\n",
       "      <th>0</th>\n",
       "      <td>BCESPAE</td>\n",
       "      <td>3637</td>\n",
       "    </tr>\n",
       "    <tr>\n",
       "      <th>1</th>\n",
       "      <td>BCESPAC</td>\n",
       "      <td>573</td>\n",
       "    </tr>\n",
       "    <tr>\n",
       "      <th>2</th>\n",
       "      <td>BCESPAB</td>\n",
       "      <td>556</td>\n",
       "    </tr>\n",
       "    <tr>\n",
       "      <th>3</th>\n",
       "      <td>BCESPTE</td>\n",
       "      <td>466</td>\n",
       "    </tr>\n",
       "    <tr>\n",
       "      <th>4</th>\n",
       "      <td>BCJURPE</td>\n",
       "      <td>98</td>\n",
       "    </tr>\n",
       "    <tr>\n",
       "      <th>5</th>\n",
       "      <td>BCESPAA</td>\n",
       "      <td>34</td>\n",
       "    </tr>\n",
       "    <tr>\n",
       "      <th>6</th>\n",
       "      <td>BCESPTC</td>\n",
       "      <td>30</td>\n",
       "    </tr>\n",
       "    <tr>\n",
       "      <th>7</th>\n",
       "      <td>BCJURP1</td>\n",
       "      <td>7</td>\n",
       "    </tr>\n",
       "    <tr>\n",
       "      <th>8</th>\n",
       "      <td>BCESPTB</td>\n",
       "      <td>3</td>\n",
       "    </tr>\n",
       "    <tr>\n",
       "      <th>9</th>\n",
       "      <td>BCESPTA</td>\n",
       "      <td>1</td>\n",
       "    </tr>\n",
       "  </tbody>\n",
       "</table>\n",
       "</div>"
      ],
      "text/plain": [
       "     Class  Retiree number\n",
       "0  BCESPAE            3637\n",
       "1  BCESPAC             573\n",
       "2  BCESPAB             556\n",
       "3  BCESPTE             466\n",
       "4  BCJURPE              98\n",
       "5  BCESPAA              34\n",
       "6  BCESPTC              30\n",
       "7  BCJURP1               7\n",
       "8  BCESPTB               3\n",
       "9  BCESPTA               1"
      ]
     },
     "execution_count": 45,
     "metadata": {},
     "output_type": "execute_result"
    }
   ],
   "source": [
    "count_classes = aposentados_df.value_counts(\"Classe\").reset_index()\n",
    "count_classes.columns = [\"Class\", \"Retiree number\"]\n",
    "count_classes"
   ]
  },
  {
   "cell_type": "code",
   "execution_count": 44,
   "id": "e1e5bc92",
   "metadata": {},
   "outputs": [
    {
     "data": {
      "application/vnd.plotly.v1+json": {
       "config": {
        "plotlyServerURL": "https://plot.ly"
       },
       "data": [
        {
         "alignmentgroup": "True",
         "hovertemplate": "Retiree number=%{marker.color}<br>Class=%{y}<extra></extra>",
         "legendgroup": "",
         "marker": {
          "color": [
           3637,
           573,
           556,
           466,
           98,
           34,
           30,
           7,
           3,
           1
          ],
          "coloraxis": "coloraxis",
          "pattern": {
           "shape": ""
          }
         },
         "name": "",
         "offsetgroup": "",
         "orientation": "h",
         "showlegend": false,
         "textposition": "auto",
         "type": "bar",
         "x": [
          3637,
          573,
          556,
          466,
          98,
          34,
          30,
          7,
          3,
          1
         ],
         "xaxis": "x",
         "y": [
          "BCESPAE",
          "BCESPAC",
          "BCESPAB",
          "BCESPTE",
          "BCJURPE",
          "BCESPAA",
          "BCESPTC",
          "BCJURP1",
          "BCESPTB",
          "BCESPTA"
         ],
         "yaxis": "y"
        }
       ],
       "layout": {
        "barmode": "relative",
        "coloraxis": {
         "colorbar": {
          "title": {
           "text": "Retiree number"
          }
         },
         "colorscale": [
          [
           0,
           "rgb(247,251,255)"
          ],
          [
           0.125,
           "rgb(222,235,247)"
          ],
          [
           0.25,
           "rgb(198,219,239)"
          ],
          [
           0.375,
           "rgb(158,202,225)"
          ],
          [
           0.5,
           "rgb(107,174,214)"
          ],
          [
           0.625,
           "rgb(66,146,198)"
          ],
          [
           0.75,
           "rgb(33,113,181)"
          ],
          [
           0.875,
           "rgb(8,81,156)"
          ],
          [
           1,
           "rgb(8,48,107)"
          ]
         ]
        },
        "legend": {
         "tracegroupgap": 0
        },
        "plot_bgcolor": "white",
        "showlegend": false,
        "template": {
         "data": {
          "bar": [
           {
            "error_x": {
             "color": "#2a3f5f"
            },
            "error_y": {
             "color": "#2a3f5f"
            },
            "marker": {
             "line": {
              "color": "#E5ECF6",
              "width": 0.5
             },
             "pattern": {
              "fillmode": "overlay",
              "size": 10,
              "solidity": 0.2
             }
            },
            "type": "bar"
           }
          ],
          "barpolar": [
           {
            "marker": {
             "line": {
              "color": "#E5ECF6",
              "width": 0.5
             },
             "pattern": {
              "fillmode": "overlay",
              "size": 10,
              "solidity": 0.2
             }
            },
            "type": "barpolar"
           }
          ],
          "carpet": [
           {
            "aaxis": {
             "endlinecolor": "#2a3f5f",
             "gridcolor": "white",
             "linecolor": "white",
             "minorgridcolor": "white",
             "startlinecolor": "#2a3f5f"
            },
            "baxis": {
             "endlinecolor": "#2a3f5f",
             "gridcolor": "white",
             "linecolor": "white",
             "minorgridcolor": "white",
             "startlinecolor": "#2a3f5f"
            },
            "type": "carpet"
           }
          ],
          "choropleth": [
           {
            "colorbar": {
             "outlinewidth": 0,
             "ticks": ""
            },
            "type": "choropleth"
           }
          ],
          "contour": [
           {
            "colorbar": {
             "outlinewidth": 0,
             "ticks": ""
            },
            "colorscale": [
             [
              0,
              "#0d0887"
             ],
             [
              0.1111111111111111,
              "#46039f"
             ],
             [
              0.2222222222222222,
              "#7201a8"
             ],
             [
              0.3333333333333333,
              "#9c179e"
             ],
             [
              0.4444444444444444,
              "#bd3786"
             ],
             [
              0.5555555555555556,
              "#d8576b"
             ],
             [
              0.6666666666666666,
              "#ed7953"
             ],
             [
              0.7777777777777778,
              "#fb9f3a"
             ],
             [
              0.8888888888888888,
              "#fdca26"
             ],
             [
              1,
              "#f0f921"
             ]
            ],
            "type": "contour"
           }
          ],
          "contourcarpet": [
           {
            "colorbar": {
             "outlinewidth": 0,
             "ticks": ""
            },
            "type": "contourcarpet"
           }
          ],
          "heatmap": [
           {
            "colorbar": {
             "outlinewidth": 0,
             "ticks": ""
            },
            "colorscale": [
             [
              0,
              "#0d0887"
             ],
             [
              0.1111111111111111,
              "#46039f"
             ],
             [
              0.2222222222222222,
              "#7201a8"
             ],
             [
              0.3333333333333333,
              "#9c179e"
             ],
             [
              0.4444444444444444,
              "#bd3786"
             ],
             [
              0.5555555555555556,
              "#d8576b"
             ],
             [
              0.6666666666666666,
              "#ed7953"
             ],
             [
              0.7777777777777778,
              "#fb9f3a"
             ],
             [
              0.8888888888888888,
              "#fdca26"
             ],
             [
              1,
              "#f0f921"
             ]
            ],
            "type": "heatmap"
           }
          ],
          "heatmapgl": [
           {
            "colorbar": {
             "outlinewidth": 0,
             "ticks": ""
            },
            "colorscale": [
             [
              0,
              "#0d0887"
             ],
             [
              0.1111111111111111,
              "#46039f"
             ],
             [
              0.2222222222222222,
              "#7201a8"
             ],
             [
              0.3333333333333333,
              "#9c179e"
             ],
             [
              0.4444444444444444,
              "#bd3786"
             ],
             [
              0.5555555555555556,
              "#d8576b"
             ],
             [
              0.6666666666666666,
              "#ed7953"
             ],
             [
              0.7777777777777778,
              "#fb9f3a"
             ],
             [
              0.8888888888888888,
              "#fdca26"
             ],
             [
              1,
              "#f0f921"
             ]
            ],
            "type": "heatmapgl"
           }
          ],
          "histogram": [
           {
            "marker": {
             "pattern": {
              "fillmode": "overlay",
              "size": 10,
              "solidity": 0.2
             }
            },
            "type": "histogram"
           }
          ],
          "histogram2d": [
           {
            "colorbar": {
             "outlinewidth": 0,
             "ticks": ""
            },
            "colorscale": [
             [
              0,
              "#0d0887"
             ],
             [
              0.1111111111111111,
              "#46039f"
             ],
             [
              0.2222222222222222,
              "#7201a8"
             ],
             [
              0.3333333333333333,
              "#9c179e"
             ],
             [
              0.4444444444444444,
              "#bd3786"
             ],
             [
              0.5555555555555556,
              "#d8576b"
             ],
             [
              0.6666666666666666,
              "#ed7953"
             ],
             [
              0.7777777777777778,
              "#fb9f3a"
             ],
             [
              0.8888888888888888,
              "#fdca26"
             ],
             [
              1,
              "#f0f921"
             ]
            ],
            "type": "histogram2d"
           }
          ],
          "histogram2dcontour": [
           {
            "colorbar": {
             "outlinewidth": 0,
             "ticks": ""
            },
            "colorscale": [
             [
              0,
              "#0d0887"
             ],
             [
              0.1111111111111111,
              "#46039f"
             ],
             [
              0.2222222222222222,
              "#7201a8"
             ],
             [
              0.3333333333333333,
              "#9c179e"
             ],
             [
              0.4444444444444444,
              "#bd3786"
             ],
             [
              0.5555555555555556,
              "#d8576b"
             ],
             [
              0.6666666666666666,
              "#ed7953"
             ],
             [
              0.7777777777777778,
              "#fb9f3a"
             ],
             [
              0.8888888888888888,
              "#fdca26"
             ],
             [
              1,
              "#f0f921"
             ]
            ],
            "type": "histogram2dcontour"
           }
          ],
          "mesh3d": [
           {
            "colorbar": {
             "outlinewidth": 0,
             "ticks": ""
            },
            "type": "mesh3d"
           }
          ],
          "parcoords": [
           {
            "line": {
             "colorbar": {
              "outlinewidth": 0,
              "ticks": ""
             }
            },
            "type": "parcoords"
           }
          ],
          "pie": [
           {
            "automargin": true,
            "type": "pie"
           }
          ],
          "scatter": [
           {
            "fillpattern": {
             "fillmode": "overlay",
             "size": 10,
             "solidity": 0.2
            },
            "type": "scatter"
           }
          ],
          "scatter3d": [
           {
            "line": {
             "colorbar": {
              "outlinewidth": 0,
              "ticks": ""
             }
            },
            "marker": {
             "colorbar": {
              "outlinewidth": 0,
              "ticks": ""
             }
            },
            "type": "scatter3d"
           }
          ],
          "scattercarpet": [
           {
            "marker": {
             "colorbar": {
              "outlinewidth": 0,
              "ticks": ""
             }
            },
            "type": "scattercarpet"
           }
          ],
          "scattergeo": [
           {
            "marker": {
             "colorbar": {
              "outlinewidth": 0,
              "ticks": ""
             }
            },
            "type": "scattergeo"
           }
          ],
          "scattergl": [
           {
            "marker": {
             "colorbar": {
              "outlinewidth": 0,
              "ticks": ""
             }
            },
            "type": "scattergl"
           }
          ],
          "scattermapbox": [
           {
            "marker": {
             "colorbar": {
              "outlinewidth": 0,
              "ticks": ""
             }
            },
            "type": "scattermapbox"
           }
          ],
          "scatterpolar": [
           {
            "marker": {
             "colorbar": {
              "outlinewidth": 0,
              "ticks": ""
             }
            },
            "type": "scatterpolar"
           }
          ],
          "scatterpolargl": [
           {
            "marker": {
             "colorbar": {
              "outlinewidth": 0,
              "ticks": ""
             }
            },
            "type": "scatterpolargl"
           }
          ],
          "scatterternary": [
           {
            "marker": {
             "colorbar": {
              "outlinewidth": 0,
              "ticks": ""
             }
            },
            "type": "scatterternary"
           }
          ],
          "surface": [
           {
            "colorbar": {
             "outlinewidth": 0,
             "ticks": ""
            },
            "colorscale": [
             [
              0,
              "#0d0887"
             ],
             [
              0.1111111111111111,
              "#46039f"
             ],
             [
              0.2222222222222222,
              "#7201a8"
             ],
             [
              0.3333333333333333,
              "#9c179e"
             ],
             [
              0.4444444444444444,
              "#bd3786"
             ],
             [
              0.5555555555555556,
              "#d8576b"
             ],
             [
              0.6666666666666666,
              "#ed7953"
             ],
             [
              0.7777777777777778,
              "#fb9f3a"
             ],
             [
              0.8888888888888888,
              "#fdca26"
             ],
             [
              1,
              "#f0f921"
             ]
            ],
            "type": "surface"
           }
          ],
          "table": [
           {
            "cells": {
             "fill": {
              "color": "#EBF0F8"
             },
             "line": {
              "color": "white"
             }
            },
            "header": {
             "fill": {
              "color": "#C8D4E3"
             },
             "line": {
              "color": "white"
             }
            },
            "type": "table"
           }
          ]
         },
         "layout": {
          "annotationdefaults": {
           "arrowcolor": "#2a3f5f",
           "arrowhead": 0,
           "arrowwidth": 1
          },
          "autotypenumbers": "strict",
          "coloraxis": {
           "colorbar": {
            "outlinewidth": 0,
            "ticks": ""
           }
          },
          "colorscale": {
           "diverging": [
            [
             0,
             "#8e0152"
            ],
            [
             0.1,
             "#c51b7d"
            ],
            [
             0.2,
             "#de77ae"
            ],
            [
             0.3,
             "#f1b6da"
            ],
            [
             0.4,
             "#fde0ef"
            ],
            [
             0.5,
             "#f7f7f7"
            ],
            [
             0.6,
             "#e6f5d0"
            ],
            [
             0.7,
             "#b8e186"
            ],
            [
             0.8,
             "#7fbc41"
            ],
            [
             0.9,
             "#4d9221"
            ],
            [
             1,
             "#276419"
            ]
           ],
           "sequential": [
            [
             0,
             "#0d0887"
            ],
            [
             0.1111111111111111,
             "#46039f"
            ],
            [
             0.2222222222222222,
             "#7201a8"
            ],
            [
             0.3333333333333333,
             "#9c179e"
            ],
            [
             0.4444444444444444,
             "#bd3786"
            ],
            [
             0.5555555555555556,
             "#d8576b"
            ],
            [
             0.6666666666666666,
             "#ed7953"
            ],
            [
             0.7777777777777778,
             "#fb9f3a"
            ],
            [
             0.8888888888888888,
             "#fdca26"
            ],
            [
             1,
             "#f0f921"
            ]
           ],
           "sequentialminus": [
            [
             0,
             "#0d0887"
            ],
            [
             0.1111111111111111,
             "#46039f"
            ],
            [
             0.2222222222222222,
             "#7201a8"
            ],
            [
             0.3333333333333333,
             "#9c179e"
            ],
            [
             0.4444444444444444,
             "#bd3786"
            ],
            [
             0.5555555555555556,
             "#d8576b"
            ],
            [
             0.6666666666666666,
             "#ed7953"
            ],
            [
             0.7777777777777778,
             "#fb9f3a"
            ],
            [
             0.8888888888888888,
             "#fdca26"
            ],
            [
             1,
             "#f0f921"
            ]
           ]
          },
          "colorway": [
           "#636efa",
           "#EF553B",
           "#00cc96",
           "#ab63fa",
           "#FFA15A",
           "#19d3f3",
           "#FF6692",
           "#B6E880",
           "#FF97FF",
           "#FECB52"
          ],
          "font": {
           "color": "#2a3f5f"
          },
          "geo": {
           "bgcolor": "white",
           "lakecolor": "white",
           "landcolor": "#E5ECF6",
           "showlakes": true,
           "showland": true,
           "subunitcolor": "white"
          },
          "hoverlabel": {
           "align": "left"
          },
          "hovermode": "closest",
          "mapbox": {
           "style": "light"
          },
          "paper_bgcolor": "white",
          "plot_bgcolor": "#E5ECF6",
          "polar": {
           "angularaxis": {
            "gridcolor": "white",
            "linecolor": "white",
            "ticks": ""
           },
           "bgcolor": "#E5ECF6",
           "radialaxis": {
            "gridcolor": "white",
            "linecolor": "white",
            "ticks": ""
           }
          },
          "scene": {
           "xaxis": {
            "backgroundcolor": "#E5ECF6",
            "gridcolor": "white",
            "gridwidth": 2,
            "linecolor": "white",
            "showbackground": true,
            "ticks": "",
            "zerolinecolor": "white"
           },
           "yaxis": {
            "backgroundcolor": "#E5ECF6",
            "gridcolor": "white",
            "gridwidth": 2,
            "linecolor": "white",
            "showbackground": true,
            "ticks": "",
            "zerolinecolor": "white"
           },
           "zaxis": {
            "backgroundcolor": "#E5ECF6",
            "gridcolor": "white",
            "gridwidth": 2,
            "linecolor": "white",
            "showbackground": true,
            "ticks": "",
            "zerolinecolor": "white"
           }
          },
          "shapedefaults": {
           "line": {
            "color": "#2a3f5f"
           }
          },
          "ternary": {
           "aaxis": {
            "gridcolor": "white",
            "linecolor": "white",
            "ticks": ""
           },
           "baxis": {
            "gridcolor": "white",
            "linecolor": "white",
            "ticks": ""
           },
           "bgcolor": "#E5ECF6",
           "caxis": {
            "gridcolor": "white",
            "linecolor": "white",
            "ticks": ""
           }
          },
          "title": {
           "x": 0.05
          },
          "xaxis": {
           "automargin": true,
           "gridcolor": "white",
           "linecolor": "white",
           "ticks": "",
           "title": {
            "standoff": 15
           },
           "zerolinecolor": "white",
           "zerolinewidth": 2
          },
          "yaxis": {
           "automargin": true,
           "gridcolor": "white",
           "linecolor": "white",
           "ticks": "",
           "title": {
            "standoff": 15
           },
           "zerolinecolor": "white",
           "zerolinewidth": 2
          }
         }
        },
        "title": {
         "text": "Distribution of Retirees per Career Class"
        },
        "xaxis": {
         "anchor": "y",
         "domain": [
          0,
          1
         ],
         "title": {
          "text": "Retiree number"
         }
        },
        "yaxis": {
         "anchor": "x",
         "domain": [
          0,
          1
         ],
         "title": {
          "text": "Class"
         }
        }
       }
      },
      "text/html": [
       "<div>                            <div id=\"f6ddf1ce-5b03-4eb2-bbbd-bc6c4d9d5265\" class=\"plotly-graph-div\" style=\"height:525px; width:100%;\"></div>            <script type=\"text/javascript\">                require([\"plotly\"], function(Plotly) {                    window.PLOTLYENV=window.PLOTLYENV || {};                                    if (document.getElementById(\"f6ddf1ce-5b03-4eb2-bbbd-bc6c4d9d5265\")) {                    Plotly.newPlot(                        \"f6ddf1ce-5b03-4eb2-bbbd-bc6c4d9d5265\",                        [{\"alignmentgroup\":\"True\",\"hovertemplate\":\"Retiree number=%{marker.color}<br>Class=%{y}<extra></extra>\",\"legendgroup\":\"\",\"marker\":{\"color\":[3637,573,556,466,98,34,30,7,3,1],\"coloraxis\":\"coloraxis\",\"pattern\":{\"shape\":\"\"}},\"name\":\"\",\"offsetgroup\":\"\",\"orientation\":\"h\",\"showlegend\":false,\"textposition\":\"auto\",\"x\":[3637,573,556,466,98,34,30,7,3,1],\"xaxis\":\"x\",\"y\":[\"BCESPAE\",\"BCESPAC\",\"BCESPAB\",\"BCESPTE\",\"BCJURPE\",\"BCESPAA\",\"BCESPTC\",\"BCJURP1\",\"BCESPTB\",\"BCESPTA\"],\"yaxis\":\"y\",\"type\":\"bar\"}],                        {\"template\":{\"data\":{\"histogram2dcontour\":[{\"type\":\"histogram2dcontour\",\"colorbar\":{\"outlinewidth\":0,\"ticks\":\"\"},\"colorscale\":[[0.0,\"#0d0887\"],[0.1111111111111111,\"#46039f\"],[0.2222222222222222,\"#7201a8\"],[0.3333333333333333,\"#9c179e\"],[0.4444444444444444,\"#bd3786\"],[0.5555555555555556,\"#d8576b\"],[0.6666666666666666,\"#ed7953\"],[0.7777777777777778,\"#fb9f3a\"],[0.8888888888888888,\"#fdca26\"],[1.0,\"#f0f921\"]]}],\"choropleth\":[{\"type\":\"choropleth\",\"colorbar\":{\"outlinewidth\":0,\"ticks\":\"\"}}],\"histogram2d\":[{\"type\":\"histogram2d\",\"colorbar\":{\"outlinewidth\":0,\"ticks\":\"\"},\"colorscale\":[[0.0,\"#0d0887\"],[0.1111111111111111,\"#46039f\"],[0.2222222222222222,\"#7201a8\"],[0.3333333333333333,\"#9c179e\"],[0.4444444444444444,\"#bd3786\"],[0.5555555555555556,\"#d8576b\"],[0.6666666666666666,\"#ed7953\"],[0.7777777777777778,\"#fb9f3a\"],[0.8888888888888888,\"#fdca26\"],[1.0,\"#f0f921\"]]}],\"heatmap\":[{\"type\":\"heatmap\",\"colorbar\":{\"outlinewidth\":0,\"ticks\":\"\"},\"colorscale\":[[0.0,\"#0d0887\"],[0.1111111111111111,\"#46039f\"],[0.2222222222222222,\"#7201a8\"],[0.3333333333333333,\"#9c179e\"],[0.4444444444444444,\"#bd3786\"],[0.5555555555555556,\"#d8576b\"],[0.6666666666666666,\"#ed7953\"],[0.7777777777777778,\"#fb9f3a\"],[0.8888888888888888,\"#fdca26\"],[1.0,\"#f0f921\"]]}],\"heatmapgl\":[{\"type\":\"heatmapgl\",\"colorbar\":{\"outlinewidth\":0,\"ticks\":\"\"},\"colorscale\":[[0.0,\"#0d0887\"],[0.1111111111111111,\"#46039f\"],[0.2222222222222222,\"#7201a8\"],[0.3333333333333333,\"#9c179e\"],[0.4444444444444444,\"#bd3786\"],[0.5555555555555556,\"#d8576b\"],[0.6666666666666666,\"#ed7953\"],[0.7777777777777778,\"#fb9f3a\"],[0.8888888888888888,\"#fdca26\"],[1.0,\"#f0f921\"]]}],\"contourcarpet\":[{\"type\":\"contourcarpet\",\"colorbar\":{\"outlinewidth\":0,\"ticks\":\"\"}}],\"contour\":[{\"type\":\"contour\",\"colorbar\":{\"outlinewidth\":0,\"ticks\":\"\"},\"colorscale\":[[0.0,\"#0d0887\"],[0.1111111111111111,\"#46039f\"],[0.2222222222222222,\"#7201a8\"],[0.3333333333333333,\"#9c179e\"],[0.4444444444444444,\"#bd3786\"],[0.5555555555555556,\"#d8576b\"],[0.6666666666666666,\"#ed7953\"],[0.7777777777777778,\"#fb9f3a\"],[0.8888888888888888,\"#fdca26\"],[1.0,\"#f0f921\"]]}],\"surface\":[{\"type\":\"surface\",\"colorbar\":{\"outlinewidth\":0,\"ticks\":\"\"},\"colorscale\":[[0.0,\"#0d0887\"],[0.1111111111111111,\"#46039f\"],[0.2222222222222222,\"#7201a8\"],[0.3333333333333333,\"#9c179e\"],[0.4444444444444444,\"#bd3786\"],[0.5555555555555556,\"#d8576b\"],[0.6666666666666666,\"#ed7953\"],[0.7777777777777778,\"#fb9f3a\"],[0.8888888888888888,\"#fdca26\"],[1.0,\"#f0f921\"]]}],\"mesh3d\":[{\"type\":\"mesh3d\",\"colorbar\":{\"outlinewidth\":0,\"ticks\":\"\"}}],\"scatter\":[{\"fillpattern\":{\"fillmode\":\"overlay\",\"size\":10,\"solidity\":0.2},\"type\":\"scatter\"}],\"parcoords\":[{\"type\":\"parcoords\",\"line\":{\"colorbar\":{\"outlinewidth\":0,\"ticks\":\"\"}}}],\"scatterpolargl\":[{\"type\":\"scatterpolargl\",\"marker\":{\"colorbar\":{\"outlinewidth\":0,\"ticks\":\"\"}}}],\"bar\":[{\"error_x\":{\"color\":\"#2a3f5f\"},\"error_y\":{\"color\":\"#2a3f5f\"},\"marker\":{\"line\":{\"color\":\"#E5ECF6\",\"width\":0.5},\"pattern\":{\"fillmode\":\"overlay\",\"size\":10,\"solidity\":0.2}},\"type\":\"bar\"}],\"scattergeo\":[{\"type\":\"scattergeo\",\"marker\":{\"colorbar\":{\"outlinewidth\":0,\"ticks\":\"\"}}}],\"scatterpolar\":[{\"type\":\"scatterpolar\",\"marker\":{\"colorbar\":{\"outlinewidth\":0,\"ticks\":\"\"}}}],\"histogram\":[{\"marker\":{\"pattern\":{\"fillmode\":\"overlay\",\"size\":10,\"solidity\":0.2}},\"type\":\"histogram\"}],\"scattergl\":[{\"type\":\"scattergl\",\"marker\":{\"colorbar\":{\"outlinewidth\":0,\"ticks\":\"\"}}}],\"scatter3d\":[{\"type\":\"scatter3d\",\"line\":{\"colorbar\":{\"outlinewidth\":0,\"ticks\":\"\"}},\"marker\":{\"colorbar\":{\"outlinewidth\":0,\"ticks\":\"\"}}}],\"scattermapbox\":[{\"type\":\"scattermapbox\",\"marker\":{\"colorbar\":{\"outlinewidth\":0,\"ticks\":\"\"}}}],\"scatterternary\":[{\"type\":\"scatterternary\",\"marker\":{\"colorbar\":{\"outlinewidth\":0,\"ticks\":\"\"}}}],\"scattercarpet\":[{\"type\":\"scattercarpet\",\"marker\":{\"colorbar\":{\"outlinewidth\":0,\"ticks\":\"\"}}}],\"carpet\":[{\"aaxis\":{\"endlinecolor\":\"#2a3f5f\",\"gridcolor\":\"white\",\"linecolor\":\"white\",\"minorgridcolor\":\"white\",\"startlinecolor\":\"#2a3f5f\"},\"baxis\":{\"endlinecolor\":\"#2a3f5f\",\"gridcolor\":\"white\",\"linecolor\":\"white\",\"minorgridcolor\":\"white\",\"startlinecolor\":\"#2a3f5f\"},\"type\":\"carpet\"}],\"table\":[{\"cells\":{\"fill\":{\"color\":\"#EBF0F8\"},\"line\":{\"color\":\"white\"}},\"header\":{\"fill\":{\"color\":\"#C8D4E3\"},\"line\":{\"color\":\"white\"}},\"type\":\"table\"}],\"barpolar\":[{\"marker\":{\"line\":{\"color\":\"#E5ECF6\",\"width\":0.5},\"pattern\":{\"fillmode\":\"overlay\",\"size\":10,\"solidity\":0.2}},\"type\":\"barpolar\"}],\"pie\":[{\"automargin\":true,\"type\":\"pie\"}]},\"layout\":{\"autotypenumbers\":\"strict\",\"colorway\":[\"#636efa\",\"#EF553B\",\"#00cc96\",\"#ab63fa\",\"#FFA15A\",\"#19d3f3\",\"#FF6692\",\"#B6E880\",\"#FF97FF\",\"#FECB52\"],\"font\":{\"color\":\"#2a3f5f\"},\"hovermode\":\"closest\",\"hoverlabel\":{\"align\":\"left\"},\"paper_bgcolor\":\"white\",\"plot_bgcolor\":\"#E5ECF6\",\"polar\":{\"bgcolor\":\"#E5ECF6\",\"angularaxis\":{\"gridcolor\":\"white\",\"linecolor\":\"white\",\"ticks\":\"\"},\"radialaxis\":{\"gridcolor\":\"white\",\"linecolor\":\"white\",\"ticks\":\"\"}},\"ternary\":{\"bgcolor\":\"#E5ECF6\",\"aaxis\":{\"gridcolor\":\"white\",\"linecolor\":\"white\",\"ticks\":\"\"},\"baxis\":{\"gridcolor\":\"white\",\"linecolor\":\"white\",\"ticks\":\"\"},\"caxis\":{\"gridcolor\":\"white\",\"linecolor\":\"white\",\"ticks\":\"\"}},\"coloraxis\":{\"colorbar\":{\"outlinewidth\":0,\"ticks\":\"\"}},\"colorscale\":{\"sequential\":[[0.0,\"#0d0887\"],[0.1111111111111111,\"#46039f\"],[0.2222222222222222,\"#7201a8\"],[0.3333333333333333,\"#9c179e\"],[0.4444444444444444,\"#bd3786\"],[0.5555555555555556,\"#d8576b\"],[0.6666666666666666,\"#ed7953\"],[0.7777777777777778,\"#fb9f3a\"],[0.8888888888888888,\"#fdca26\"],[1.0,\"#f0f921\"]],\"sequentialminus\":[[0.0,\"#0d0887\"],[0.1111111111111111,\"#46039f\"],[0.2222222222222222,\"#7201a8\"],[0.3333333333333333,\"#9c179e\"],[0.4444444444444444,\"#bd3786\"],[0.5555555555555556,\"#d8576b\"],[0.6666666666666666,\"#ed7953\"],[0.7777777777777778,\"#fb9f3a\"],[0.8888888888888888,\"#fdca26\"],[1.0,\"#f0f921\"]],\"diverging\":[[0,\"#8e0152\"],[0.1,\"#c51b7d\"],[0.2,\"#de77ae\"],[0.3,\"#f1b6da\"],[0.4,\"#fde0ef\"],[0.5,\"#f7f7f7\"],[0.6,\"#e6f5d0\"],[0.7,\"#b8e186\"],[0.8,\"#7fbc41\"],[0.9,\"#4d9221\"],[1,\"#276419\"]]},\"xaxis\":{\"gridcolor\":\"white\",\"linecolor\":\"white\",\"ticks\":\"\",\"title\":{\"standoff\":15},\"zerolinecolor\":\"white\",\"automargin\":true,\"zerolinewidth\":2},\"yaxis\":{\"gridcolor\":\"white\",\"linecolor\":\"white\",\"ticks\":\"\",\"title\":{\"standoff\":15},\"zerolinecolor\":\"white\",\"automargin\":true,\"zerolinewidth\":2},\"scene\":{\"xaxis\":{\"backgroundcolor\":\"#E5ECF6\",\"gridcolor\":\"white\",\"linecolor\":\"white\",\"showbackground\":true,\"ticks\":\"\",\"zerolinecolor\":\"white\",\"gridwidth\":2},\"yaxis\":{\"backgroundcolor\":\"#E5ECF6\",\"gridcolor\":\"white\",\"linecolor\":\"white\",\"showbackground\":true,\"ticks\":\"\",\"zerolinecolor\":\"white\",\"gridwidth\":2},\"zaxis\":{\"backgroundcolor\":\"#E5ECF6\",\"gridcolor\":\"white\",\"linecolor\":\"white\",\"showbackground\":true,\"ticks\":\"\",\"zerolinecolor\":\"white\",\"gridwidth\":2}},\"shapedefaults\":{\"line\":{\"color\":\"#2a3f5f\"}},\"annotationdefaults\":{\"arrowcolor\":\"#2a3f5f\",\"arrowhead\":0,\"arrowwidth\":1},\"geo\":{\"bgcolor\":\"white\",\"landcolor\":\"#E5ECF6\",\"subunitcolor\":\"white\",\"showland\":true,\"showlakes\":true,\"lakecolor\":\"white\"},\"title\":{\"x\":0.05},\"mapbox\":{\"style\":\"light\"}}},\"xaxis\":{\"anchor\":\"y\",\"domain\":[0.0,1.0],\"title\":{\"text\":\"Retiree number\"}},\"yaxis\":{\"anchor\":\"x\",\"domain\":[0.0,1.0],\"title\":{\"text\":\"Class\"}},\"coloraxis\":{\"colorbar\":{\"title\":{\"text\":\"Retiree number\"}},\"colorscale\":[[0.0,\"rgb(247,251,255)\"],[0.125,\"rgb(222,235,247)\"],[0.25,\"rgb(198,219,239)\"],[0.375,\"rgb(158,202,225)\"],[0.5,\"rgb(107,174,214)\"],[0.625,\"rgb(66,146,198)\"],[0.75,\"rgb(33,113,181)\"],[0.875,\"rgb(8,81,156)\"],[1.0,\"rgb(8,48,107)\"]]},\"legend\":{\"tracegroupgap\":0},\"title\":{\"text\":\"Distribution of Retirees per Career Class\"},\"barmode\":\"relative\",\"plot_bgcolor\":\"white\",\"showlegend\":false},                        {\"responsive\": true}                    ).then(function(){\n",
       "                            \n",
       "var gd = document.getElementById('f6ddf1ce-5b03-4eb2-bbbd-bc6c4d9d5265');\n",
       "var x = new MutationObserver(function (mutations, observer) {{\n",
       "        var display = window.getComputedStyle(gd).display;\n",
       "        if (!display || display === 'none') {{\n",
       "            console.log([gd, 'removed!']);\n",
       "            Plotly.purge(gd);\n",
       "            observer.disconnect();\n",
       "        }}\n",
       "}});\n",
       "\n",
       "// Listen for the removal of the full notebook cells\n",
       "var notebookContainer = gd.closest('#notebook-container');\n",
       "if (notebookContainer) {{\n",
       "    x.observe(notebookContainer, {childList: true});\n",
       "}}\n",
       "\n",
       "// Listen for the clearing of the current output cell\n",
       "var outputEl = gd.closest('.output');\n",
       "if (outputEl) {{\n",
       "    x.observe(outputEl, {childList: true});\n",
       "}}\n",
       "\n",
       "                        })                };                });            </script>        </div>"
      ]
     },
     "metadata": {},
     "output_type": "display_data"
    }
   ],
   "source": [
    "fig = px.bar(\n",
    "    count_classes,\n",
    "    x=\"Retiree number\",\n",
    "    y=\"Class\",\n",
    "    orientation=\"h\",\n",
    "    title=\"Distribution of Retirees per Career Class\",\n",
    "    color=\"Retiree number\",\n",
    "    color_continuous_scale=\"Blues\"\n",
    ")\n",
    "\n",
    "fig.update_layout(\n",
    "    xaxis_title=\"Retiree number\",\n",
    "    yaxis_title=\"Class\",\n",
    "    plot_bgcolor=\"white\",\n",
    "    showlegend=False\n",
    ")\n",
    "\n",
    "fig.show()"
   ]
  },
  {
   "cell_type": "markdown",
   "id": "04d010aa",
   "metadata": {},
   "source": [
    "The classification of retirees by career class offers valuable insight into the professional structure and retirement patterns within the Central Bank of Brazil.\n",
    "\n",
    "The overwhelming majority of retirees held senior positions at the time of retirement, especially: **\"Analista do Banco Central, Classe Especial\"** (3,637 individuals) and **\"Técnico do Banco Central, Classe Especial\"** (466 individuals). These are the highest career tiers for their respective tracks, indicating that **most public servants retire after full career progression**.\n",
    "This pattern reflects a strong culture of long-term career development, where civil servants tend to remain within the institution for decades, gradually climbing the career ladder.\n",
    "\n",
    "Mid- and lower-tier classes appear in much smaller numbers: **Analistas – Classe C** (573) and **Classe B** (556) still show **notable presence**, while **Classe A (34) is rare**. For Technicians, **the lower classes (C, B, A) are even less common**. These numbers suggest that **early retirement or mid-career exits are uncommon**. Employees often only retire after reaching a level of seniority that likely corresponds with maximum benefit accrual and stability.\n",
    "\n",
    "A much smaller subset of retirees were Procuradores do Banco Central (legal/prosecutorial career): 98 in the top tier (\"Categoria Especial\"), and only 7 in the lower tier (\"Primeira Categoria\"). This likely reflects a more selective or limited career track, either with fewer overall positions or more specialized entrance/retention criteria.\n",
    "\n",
    "The high concentration of retirees in top classes could pose a succession planning challenge: as experienced professionals leave, they take deep institutional knowledge with them. On the positive side, **the data reflects a well-structured career pipeline**, where employees are incentivized to remain and grow within the institution."
   ]
  }
 ],
 "metadata": {
  "kernelspec": {
   "display_name": "Python 3 (ipykernel)",
   "language": "python",
   "name": "python3"
  },
  "language_info": {
   "codemirror_mode": {
    "name": "ipython",
    "version": 3
   },
   "file_extension": ".py",
   "mimetype": "text/x-python",
   "name": "python",
   "nbconvert_exporter": "python",
   "pygments_lexer": "ipython3",
   "version": "3.10.6"
  },
  "toc": {
   "base_numbering": 1,
   "nav_menu": {},
   "number_sections": true,
   "sideBar": true,
   "skip_h1_title": false,
   "title_cell": "Table of Contents",
   "title_sidebar": "Contents",
   "toc_cell": false,
   "toc_position": {},
   "toc_section_display": true,
   "toc_window_display": false
  }
 },
 "nbformat": 4,
 "nbformat_minor": 5
}
